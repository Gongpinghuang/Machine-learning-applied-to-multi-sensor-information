{
 "cells": [
  {
   "cell_type": "code",
   "execution_count": 29,
   "metadata": {},
   "outputs": [
    {
     "name": "stdout",
     "output_type": "stream",
     "text": [
      "Requirement already satisfied: matplotlib in c:\\users\\temp.bgu-users\\appdata\\local\\continuum\\anaconda3\\lib\\site-packages\n",
      "Requirement already satisfied: numpy>=1.7.1 in c:\\users\\temp.bgu-users\\appdata\\local\\continuum\\anaconda3\\lib\\site-packages (from matplotlib)\n",
      "Requirement already satisfied: six>=1.10 in c:\\users\\temp.bgu-users\\appdata\\local\\continuum\\anaconda3\\lib\\site-packages (from matplotlib)\n",
      "Requirement already satisfied: python-dateutil in c:\\users\\temp.bgu-users\\appdata\\local\\continuum\\anaconda3\\lib\\site-packages (from matplotlib)\n",
      "Requirement already satisfied: pytz in c:\\users\\temp.bgu-users\\appdata\\local\\continuum\\anaconda3\\lib\\site-packages (from matplotlib)\n",
      "Requirement already satisfied: cycler>=0.10 in c:\\users\\temp.bgu-users\\appdata\\local\\continuum\\anaconda3\\lib\\site-packages (from matplotlib)\n",
      "Requirement already satisfied: pyparsing!=2.0.4,!=2.1.2,!=2.1.6,>=1.5.6 in c:\\users\\temp.bgu-users\\appdata\\local\\continuum\\anaconda3\\lib\\site-packages (from matplotlib)\n"
     ]
    }
   ],
   "source": [
    "!pip install matplotlib"
   ]
  },
  {
   "cell_type": "code",
   "execution_count": 53,
   "metadata": {
    "collapsed": true
   },
   "outputs": [],
   "source": [
    "import pyodbc\n",
    "import pandas as pd\n",
    "import math\n",
    "import numpy as np\n",
    "\n",
    "import plotly \n",
    "plotly.tools.set_credentials_file(username='GalHever1c03', api_key='dlLjeWAYKEWdFBorya5j')"
   ]
  },
  {
   "cell_type": "code",
   "execution_count": 20,
   "metadata": {
    "collapsed": true
   },
   "outputs": [],
   "source": [
    "con = pyodbc.connect('DRIVER={SQL Server};SERVER=localhost;DATABASE=Ichilov')\n",
    "selectCur = con.cursor()\n"
   ]
  },
  {
   "cell_type": "code",
   "execution_count": 21,
   "metadata": {
    "collapsed": true
   },
   "outputs": [],
   "source": [
    "import plotly.plotly as py\n",
    "from plotly.graph_objs import *"
   ]
  },
  {
   "cell_type": "code",
   "execution_count": 22,
   "metadata": {},
   "outputs": [],
   "source": [
    "selectSql =\"select DATEADD(dd, 0, DATEDIFF(dd, 0, [Time])) as Date ,DATEPART(dw, Time) as Week,DATENAME(dw, Time),DATEPART(hh, Time), concat(DATENAME(dw, Time),DATEPART(hh, Time)) as Weekday_Hour , sum(Michael_Alarm) as Amount FROM [Ichilov].[dbo].[SouraskyDB] where Michael_Alarm = 1 group by DATEADD(dd, 0, DATEDIFF(dd, 0, [Time])) ,DATEPART(dw, Time),DATENAME(dw, Time),DATEPART(hh, Time), concat(DATENAME(dw, Time),DATEPART(hh, Time)) order by  DATEPART(dw, Time),DATEPART(hh, Time);\"\n",
    "df=pd.read_sql(selectSql, con)"
   ]
  },
  {
   "cell_type": "code",
   "execution_count": 23,
   "metadata": {},
   "outputs": [
    {
     "name": "stderr",
     "output_type": "stream",
     "text": [
      "C:\\Users\\TEMP.BGU-USERS\\AppData\\Local\\Continuum\\Anaconda3\\lib\\site-packages\\plotly\\plotly\\plotly.py:218: UserWarning:\n",
      "\n",
      "Woah there! Look at all those points! Due to browser limitations, the Plotly SVG drawing functions have a hard time graphing more than 500k data points for line charts, or 40k points for other types of charts. Here are some suggestions:\n",
      "(1) Use the `plotly.graph_objs.Scattergl` trace object to generate a WebGl graph.\n",
      "(2) Trying using the image API to return an image instead of a graph URL\n",
      "(3) Use matplotlib\n",
      "(4) See if you can create your visualization with fewer data points\n",
      "\n",
      "If the visualization you're using aggregates points (e.g., box plot, histogram, etc.) you can disregard this warning.\n",
      "\n"
     ]
    },
    {
     "data": {
      "text/html": [
       "<iframe id=\"igraph\" scrolling=\"no\" style=\"border:none;\" seamless=\"seamless\" src=\"https://plot.ly/~GalHever1c03/26.embed\" height=\"525px\" width=\"100%\"></iframe>"
      ],
      "text/plain": [
       "<plotly.tools.PlotlyDisplay object>"
      ]
     },
     "execution_count": 23,
     "metadata": {},
     "output_type": "execute_result"
    }
   ],
   "source": [
    "import plotly.plotly as py\n",
    "import plotly.graph_objs as go\n",
    "\n",
    "\n",
    "data = [\n",
    "    {\n",
    "        \n",
    "        'x': df.Weekday_Hour,\n",
    "        'y': df.Amount, \n",
    "        \n",
    "        \"type\": \"box\",\n",
    "    },\n",
    "]\n",
    "\n",
    "layout = go.Layout(\n",
    "    title = \"Amount of Michael Alarms per Hour&Weekday\"\n",
    ")\n",
    "\n",
    "fig = go.Figure(data=data, layout=layout)\n",
    "\n",
    "py.iplot(fig)"
   ]
  },
  {
   "cell_type": "code",
   "execution_count": 24,
   "metadata": {
    "collapsed": true
   },
   "outputs": [],
   "source": [
    "selectSql =\"select DATEADD(dd, 0, DATEDIFF(dd, 0, [Time])) as Date ,DATEPART(dw, Time) as Week,DATENAME(dw, Time),DATEPART(hh, Time), concat(DATENAME(dw, Time),DATEPART(hh, Time)) as Weekday_Hour , sum(Michael_Alarm)/count(distinct [PatientID]) as Amount FROM [Ichilov].[dbo].[SouraskyDB] group by DATEADD(dd, 0, DATEDIFF(dd, 0, [Time])) ,DATEPART(dw, Time),DATENAME(dw, Time),DATEPART(hh, Time), concat(DATENAME(dw, Time),DATEPART(hh, Time)) order by  DATEPART(dw, Time),DATEPART(hh, Time);\"\n",
    "df2=pd.read_sql(selectSql, con)"
   ]
  },
  {
   "cell_type": "code",
   "execution_count": 25,
   "metadata": {},
   "outputs": [
    {
     "name": "stderr",
     "output_type": "stream",
     "text": [
      "C:\\Users\\TEMP.BGU-USERS\\AppData\\Local\\Continuum\\Anaconda3\\lib\\site-packages\\plotly\\plotly\\plotly.py:218: UserWarning:\n",
      "\n",
      "Woah there! Look at all those points! Due to browser limitations, the Plotly SVG drawing functions have a hard time graphing more than 500k data points for line charts, or 40k points for other types of charts. Here are some suggestions:\n",
      "(1) Use the `plotly.graph_objs.Scattergl` trace object to generate a WebGl graph.\n",
      "(2) Trying using the image API to return an image instead of a graph URL\n",
      "(3) Use matplotlib\n",
      "(4) See if you can create your visualization with fewer data points\n",
      "\n",
      "If the visualization you're using aggregates points (e.g., box plot, histogram, etc.) you can disregard this warning.\n",
      "\n"
     ]
    },
    {
     "data": {
      "text/html": [
       "<iframe id=\"igraph\" scrolling=\"no\" style=\"border:none;\" seamless=\"seamless\" src=\"https://plot.ly/~GalHever1c03/28.embed\" height=\"525px\" width=\"100%\"></iframe>"
      ],
      "text/plain": [
       "<plotly.tools.PlotlyDisplay object>"
      ]
     },
     "execution_count": 25,
     "metadata": {},
     "output_type": "execute_result"
    }
   ],
   "source": [
    "import plotly.plotly as py\n",
    "import plotly.graph_objs as go\n",
    "\n",
    "data = [\n",
    "    {\n",
    "        \n",
    "        'x': df2.Weekday_Hour,\n",
    "        'y': df2.Amount, \n",
    "       \n",
    "        \"type\": \"box\",\n",
    "    },\n",
    "]\n",
    "\n",
    "layout = go.Layout(\n",
    "    title = \"Average of Michael Alarms per Hour&Weekday\"\n",
    ")\n",
    "\n",
    "fig = go.Figure(data=data, layout=layout)\n",
    "\n",
    "py.iplot(fig)"
   ]
  },
  {
   "cell_type": "code",
   "execution_count": 28,
   "metadata": {
    "collapsed": true
   },
   "outputs": [],
   "source": [
    "selectSql =\"select DATEADD(dd, 0, DATEDIFF(dd, 0, [Time])) as Date ,DATEPART(dw, Time) as Week,DATENAME(dw, Time),DATEPART(hh, Time), concat(DATENAME(dw, Time),DATEPART(hh, Time)) as Weekday_Hour , sum(Michael_Alarm)/count(distinct [PatientID]) as Amount FROM [Ichilov].[dbo].[SouraskyDB] where Michael_Type like '%SVT & Hypotension 1%' group by DATEADD(dd, 0, DATEDIFF(dd, 0, [Time])) ,DATEPART(dw, Time),DATENAME(dw, Time),DATEPART(hh, Time), concat(DATENAME(dw, Time),DATEPART(hh, Time)) order by  DATEPART(dw, Time),DATEPART(hh, Time);\"\n",
    "df3=pd.read_sql(selectSql, con)"
   ]
  },
  {
   "cell_type": "code",
   "execution_count": 41,
   "metadata": {},
   "outputs": [
    {
     "data": {
      "text/html": [
       "<iframe id=\"igraph\" scrolling=\"no\" style=\"border:none;\" seamless=\"seamless\" src=\"https://plot.ly/~GalHever1c03/44.embed\" height=\"525px\" width=\"100%\"></iframe>"
      ],
      "text/plain": [
       "<plotly.tools.PlotlyDisplay object>"
      ]
     },
     "execution_count": 41,
     "metadata": {},
     "output_type": "execute_result"
    }
   ],
   "source": [
    "import plotly.plotly as py\n",
    "import plotly.graph_objs as go\n",
    "\n",
    "data = [\n",
    "    {\n",
    "        \n",
    "        'x': df3.Weekday_Hour,\n",
    "        'y': df3.Amount, \n",
    "       \n",
    "        \"type\": \"box\",\n",
    "    },\n",
    "]\n",
    "\n",
    "layout = go.Layout(\n",
    "    title = \"Average of SVT & Hypotension 1 Alarms per Hour&Weekday\"\n",
    ")\n",
    "\n",
    "fig = go.Figure(data=data, layout=layout)\n",
    "\n",
    "py.iplot(fig)"
   ]
  },
  {
   "cell_type": "code",
   "execution_count": 30,
   "metadata": {
    "collapsed": true
   },
   "outputs": [],
   "source": [
    "selectSql =\"select DATEADD(dd, 0, DATEDIFF(dd, 0, [Time])) as Date ,DATEPART(dw, Time) as Week,DATENAME(dw, Time),DATEPART(hh, Time), concat(DATENAME(dw, Time),DATEPART(hh, Time)) as Weekday_Hour , sum(Michael_Alarm)/count(distinct [PatientID]) as Amount FROM [Ichilov].[dbo].[SouraskyDB] where Michael_Type like '%SVT & Hypotension 2%' group by DATEADD(dd, 0, DATEDIFF(dd, 0, [Time])) ,DATEPART(dw, Time),DATENAME(dw, Time),DATEPART(hh, Time), concat(DATENAME(dw, Time),DATEPART(hh, Time)) order by  DATEPART(dw, Time),DATEPART(hh, Time);\"\n",
    "df4=pd.read_sql(selectSql, con)"
   ]
  },
  {
   "cell_type": "code",
   "execution_count": 42,
   "metadata": {},
   "outputs": [
    {
     "data": {
      "text/html": [
       "<iframe id=\"igraph\" scrolling=\"no\" style=\"border:none;\" seamless=\"seamless\" src=\"https://plot.ly/~GalHever1c03/46.embed\" height=\"525px\" width=\"100%\"></iframe>"
      ],
      "text/plain": [
       "<plotly.tools.PlotlyDisplay object>"
      ]
     },
     "execution_count": 42,
     "metadata": {},
     "output_type": "execute_result"
    }
   ],
   "source": [
    "import plotly.plotly as py\n",
    "import plotly.graph_objs as go\n",
    "\n",
    "data = [\n",
    "    {\n",
    "        \n",
    "        'x': df4.Weekday_Hour,\n",
    "        'y': df4.Amount, \n",
    "       \n",
    "        \"type\": \"box\",\n",
    "    },\n",
    "]\n",
    "\n",
    "layout = go.Layout(\n",
    "    title = \"Average of SVT & Hypotension 2 Alarms per Hour&Weekday\"\n",
    ")\n",
    "\n",
    "fig = go.Figure(data=data, layout=layout)\n",
    "\n",
    "py.iplot(fig)"
   ]
  },
  {
   "cell_type": "code",
   "execution_count": 32,
   "metadata": {
    "collapsed": true
   },
   "outputs": [],
   "source": [
    "selectSql =\"select DATEADD(dd, 0, DATEDIFF(dd, 0, [Time])) as Date ,DATEPART(dw, Time) as Week,DATENAME(dw, Time),DATEPART(hh, Time), concat(DATENAME(dw, Time),DATEPART(hh, Time)) as Weekday_Hour , sum(Michael_Alarm)/count(distinct [PatientID]) as Amount FROM [Ichilov].[dbo].[SouraskyDB] where Michael_Type like '%Tachycardia' or [Michael_Type] like '%Tachycardia,%' group by DATEADD(dd, 0, DATEDIFF(dd, 0, [Time])) ,DATEPART(dw, Time),DATENAME(dw, Time),DATEPART(hh, Time), concat(DATENAME(dw, Time),DATEPART(hh, Time)) order by  DATEPART(dw, Time),DATEPART(hh, Time);\"\n",
    "df5=pd.read_sql(selectSql, con)"
   ]
  },
  {
   "cell_type": "code",
   "execution_count": 43,
   "metadata": {},
   "outputs": [
    {
     "name": "stderr",
     "output_type": "stream",
     "text": [
      "C:\\Users\\TEMP.BGU-USERS\\AppData\\Local\\Continuum\\Anaconda3\\lib\\site-packages\\plotly\\plotly\\plotly.py:218: UserWarning:\n",
      "\n",
      "Woah there! Look at all those points! Due to browser limitations, the Plotly SVG drawing functions have a hard time graphing more than 500k data points for line charts, or 40k points for other types of charts. Here are some suggestions:\n",
      "(1) Use the `plotly.graph_objs.Scattergl` trace object to generate a WebGl graph.\n",
      "(2) Trying using the image API to return an image instead of a graph URL\n",
      "(3) Use matplotlib\n",
      "(4) See if you can create your visualization with fewer data points\n",
      "\n",
      "If the visualization you're using aggregates points (e.g., box plot, histogram, etc.) you can disregard this warning.\n",
      "\n"
     ]
    },
    {
     "data": {
      "text/html": [
       "<iframe id=\"igraph\" scrolling=\"no\" style=\"border:none;\" seamless=\"seamless\" src=\"https://plot.ly/~GalHever1c03/48.embed\" height=\"525px\" width=\"100%\"></iframe>"
      ],
      "text/plain": [
       "<plotly.tools.PlotlyDisplay object>"
      ]
     },
     "execution_count": 43,
     "metadata": {},
     "output_type": "execute_result"
    }
   ],
   "source": [
    "import plotly.plotly as py\n",
    "import plotly.graph_objs as go\n",
    "\n",
    "data = [\n",
    "    {\n",
    "        \n",
    "        'x': df5.Weekday_Hour,\n",
    "        'y': df5.Amount, \n",
    "       \n",
    "        \"type\": \"box\",\n",
    "    },\n",
    "]\n",
    "\n",
    "layout = go.Layout(\n",
    "    title = \"Average of Tachycardia Alarms per Hour&Weekday\"\n",
    ")\n",
    "\n",
    "fig = go.Figure(data=data, layout=layout)\n",
    "\n",
    "py.iplot(fig)"
   ]
  },
  {
   "cell_type": "code",
   "execution_count": 34,
   "metadata": {
    "collapsed": true
   },
   "outputs": [],
   "source": [
    "selectSql =\"select DATEADD(dd, 0, DATEDIFF(dd, 0, [Time])) as Date ,DATEPART(dw, Time) as Week,DATENAME(dw, Time),DATEPART(hh, Time), concat(DATENAME(dw, Time),DATEPART(hh, Time)) as Weekday_Hour , sum(Michael_Alarm)/count(distinct [PatientID]) as Amount FROM [Ichilov].[dbo].[SouraskyDB] where ([Michael_Type] like '%Tachycardia Hypotension%' ) group by DATEADD(dd, 0, DATEDIFF(dd, 0, [Time])) ,DATEPART(dw, Time),DATENAME(dw, Time),DATEPART(hh, Time), concat(DATENAME(dw, Time),DATEPART(hh, Time)) order by  DATEPART(dw, Time),DATEPART(hh, Time);\"\n",
    "df6=pd.read_sql(selectSql, con)"
   ]
  },
  {
   "cell_type": "code",
   "execution_count": 35,
   "metadata": {},
   "outputs": [
    {
     "data": {
      "text/html": [
       "<iframe id=\"igraph\" scrolling=\"no\" style=\"border:none;\" seamless=\"seamless\" src=\"https://plot.ly/~GalHever1c03/38.embed\" height=\"525px\" width=\"100%\"></iframe>"
      ],
      "text/plain": [
       "<plotly.tools.PlotlyDisplay object>"
      ]
     },
     "execution_count": 35,
     "metadata": {},
     "output_type": "execute_result"
    }
   ],
   "source": [
    "import plotly.plotly as py\n",
    "import plotly.graph_objs as go\n",
    "\n",
    "data = [\n",
    "    {\n",
    "        \n",
    "        'x': df6.Weekday_Hour,\n",
    "        'y': df6.Amount, \n",
    "       \n",
    "        \"type\": \"box\",\n",
    "    },\n",
    "]\n",
    "\n",
    "layout = go.Layout(\n",
    "    title = \"Average of Tachycardia Hypotension Alarms per Hour&Weekday\"\n",
    ")\n",
    "\n",
    "fig = go.Figure(data=data, layout=layout)\n",
    "\n",
    "py.iplot(fig)"
   ]
  },
  {
   "cell_type": "code",
   "execution_count": 36,
   "metadata": {
    "collapsed": true
   },
   "outputs": [],
   "source": [
    "selectSql =\"select DATEADD(dd, 0, DATEDIFF(dd, 0, [Time])) as Date ,DATEPART(dw, Time) as Week,DATENAME(dw, Time),DATEPART(hh, Time), concat(DATENAME(dw, Time),DATEPART(hh, Time)) as Weekday_Hour , sum(Michael_Alarm)/count(distinct [PatientID])as Amount FROM [Ichilov].[dbo].[SouraskyDB] where Michael_Type like '%Bradycardia Hypotension%' group by DATEADD(dd, 0, DATEDIFF(dd, 0, [Time])) ,DATEPART(dw, Time),DATENAME(dw, Time),DATEPART(hh, Time), concat(DATENAME(dw, Time),DATEPART(hh, Time)) order by  DATEPART(dw, Time),DATEPART(hh, Time);\"\n",
    "df7=pd.read_sql(selectSql, con)"
   ]
  },
  {
   "cell_type": "code",
   "execution_count": 37,
   "metadata": {},
   "outputs": [
    {
     "data": {
      "text/html": [
       "<iframe id=\"igraph\" scrolling=\"no\" style=\"border:none;\" seamless=\"seamless\" src=\"https://plot.ly/~GalHever1c03/40.embed\" height=\"525px\" width=\"100%\"></iframe>"
      ],
      "text/plain": [
       "<plotly.tools.PlotlyDisplay object>"
      ]
     },
     "execution_count": 37,
     "metadata": {},
     "output_type": "execute_result"
    }
   ],
   "source": [
    "import plotly.plotly as py\n",
    "import plotly.graph_objs as go\n",
    "\n",
    "data = [\n",
    "    {\n",
    "        \n",
    "        'x': df7.Weekday_Hour,\n",
    "        'y': df7.Amount, \n",
    "       \n",
    "        \"type\": \"box\",\n",
    "    },\n",
    "]\n",
    "\n",
    "layout = go.Layout(\n",
    "    title = \"Average of Bradycardia Hypotension Alarms per Hour&Weekday\"\n",
    ")\n",
    "\n",
    "fig = go.Figure(data=data, layout=layout)\n",
    "\n",
    "py.iplot(fig)"
   ]
  },
  {
   "cell_type": "code",
   "execution_count": 39,
   "metadata": {},
   "outputs": [],
   "source": [
    "selectSql =\"select DATEADD(dd, 0, DATEDIFF(dd, 0, [Time])) as Date ,DATEPART(dw, Time) as Week,DATENAME(dw, Time),DATEPART(hh, Time), concat(DATENAME(dw, Time),DATEPART(hh, Time)) as Weekday_Hour , sum(Michael_Alarm)/count(distinct [PatientID]) as Amount FROM [Ichilov].[dbo].[SouraskyDB] where [Michael_Type] like '%Bradycardia 1%' group by DATEADD(dd, 0, DATEDIFF(dd, 0, [Time])) ,DATEPART(dw, Time),DATENAME(dw, Time),DATEPART(hh, Time), concat(DATENAME(dw, Time),DATEPART(hh, Time)) order by  DATEPART(dw, Time),DATEPART(hh, Time);\"\n",
    "df8=pd.read_sql(selectSql, con)"
   ]
  },
  {
   "cell_type": "code",
   "execution_count": 40,
   "metadata": {},
   "outputs": [
    {
     "data": {
      "text/html": [
       "<iframe id=\"igraph\" scrolling=\"no\" style=\"border:none;\" seamless=\"seamless\" src=\"https://plot.ly/~GalHever1c03/42.embed\" height=\"525px\" width=\"100%\"></iframe>"
      ],
      "text/plain": [
       "<plotly.tools.PlotlyDisplay object>"
      ]
     },
     "execution_count": 40,
     "metadata": {},
     "output_type": "execute_result"
    }
   ],
   "source": [
    "import plotly.plotly as py\n",
    "import plotly.graph_objs as go\n",
    "\n",
    "data = [\n",
    "    {\n",
    "        \n",
    "        'x': df8.Weekday_Hour,\n",
    "        'y': df8.Amount, \n",
    "        \"type\": \"box\",\n",
    "    },\n",
    "]\n",
    "\n",
    "layout = go.Layout(\n",
    "    title = \"Average of Bradycardia 1 Alarms per Hour&Weekday\"\n",
    ")\n",
    "\n",
    "fig = go.Figure(data=data, layout=layout)\n",
    "\n",
    "py.iplot(fig)"
   ]
  },
  {
   "cell_type": "code",
   "execution_count": 45,
   "metadata": {
    "collapsed": true
   },
   "outputs": [],
   "source": [
    "selectSql =\"select DATEADD(dd, 0, DATEDIFF(dd, 0, [Time])) as Date ,DATEPART(dw, Time) as Week,DATENAME(dw, Time),DATEPART(hh, Time), concat(DATENAME(dw, Time),DATEPART(hh, Time)) as Weekday_Hour , sum(Michael_Alarm)/count(distinct [PatientID]) as Amount FROM [Ichilov].[dbo].[SouraskyDB] where [Michael_Type] like '%Agitation 1%'  group by DATEADD(dd, 0, DATEDIFF(dd, 0, [Time])) ,DATEPART(dw, Time),DATENAME(dw, Time),DATEPART(hh, Time), concat(DATENAME(dw, Time),DATEPART(hh, Time)) order by  DATEPART(dw, Time),DATEPART(hh, Time);\"\n",
    "df9=pd.read_sql(selectSql, con)"
   ]
  },
  {
   "cell_type": "code",
   "execution_count": 46,
   "metadata": {},
   "outputs": [
    {
     "name": "stderr",
     "output_type": "stream",
     "text": [
      "C:\\Users\\TEMP.BGU-USERS\\AppData\\Local\\Continuum\\Anaconda3\\lib\\site-packages\\plotly\\plotly\\plotly.py:218: UserWarning:\n",
      "\n",
      "Woah there! Look at all those points! Due to browser limitations, the Plotly SVG drawing functions have a hard time graphing more than 500k data points for line charts, or 40k points for other types of charts. Here are some suggestions:\n",
      "(1) Use the `plotly.graph_objs.Scattergl` trace object to generate a WebGl graph.\n",
      "(2) Trying using the image API to return an image instead of a graph URL\n",
      "(3) Use matplotlib\n",
      "(4) See if you can create your visualization with fewer data points\n",
      "\n",
      "If the visualization you're using aggregates points (e.g., box plot, histogram, etc.) you can disregard this warning.\n",
      "\n"
     ]
    },
    {
     "data": {
      "text/html": [
       "<iframe id=\"igraph\" scrolling=\"no\" style=\"border:none;\" seamless=\"seamless\" src=\"https://plot.ly/~GalHever1c03/50.embed\" height=\"525px\" width=\"100%\"></iframe>"
      ],
      "text/plain": [
       "<plotly.tools.PlotlyDisplay object>"
      ]
     },
     "execution_count": 46,
     "metadata": {},
     "output_type": "execute_result"
    }
   ],
   "source": [
    "import plotly.plotly as py\n",
    "import plotly.graph_objs as go\n",
    "\n",
    "data = [\n",
    "    {\n",
    "        \n",
    "        'x': df9.Weekday_Hour,\n",
    "        'y': df9.Amount, \n",
    "        \"type\": \"box\",\n",
    "    },\n",
    "]\n",
    "\n",
    "layout = go.Layout(\n",
    "    title = \"Average of Agitation 1 Alarms per Hour&Weekday\"\n",
    ")\n",
    "\n",
    "fig = go.Figure(data=data, layout=layout)\n",
    "\n",
    "py.iplot(fig)"
   ]
  },
  {
   "cell_type": "code",
   "execution_count": 55,
   "metadata": {
    "collapsed": true
   },
   "outputs": [],
   "source": [
    "plotly.tools.set_credentials_file(username='galhev6d4d', api_key='8aStFhSZFgpzJWQXlOVV')"
   ]
  },
  {
   "cell_type": "code",
   "execution_count": 56,
   "metadata": {
    "collapsed": true
   },
   "outputs": [],
   "source": [
    "selectSql =\"select DATEADD(dd, 0, DATEDIFF(dd, 0, [Time])) as Date ,DATEPART(dw, Time) as Week,DATENAME(dw, Time),DATEPART(hh, Time), concat(DATENAME(dw, Time),DATEPART(hh, Time)) as Weekday_Hour , sum(Michael_Alarm)/count(distinct [PatientID]) as Amount FROM [Ichilov].[dbo].[SouraskyDB] where [Michael_Type] like '%Agitation 2%'  group by DATEADD(dd, 0, DATEDIFF(dd, 0, [Time])) ,DATEPART(dw, Time),DATENAME(dw, Time),DATEPART(hh, Time), concat(DATENAME(dw, Time),DATEPART(hh, Time)) order by  DATEPART(dw, Time),DATEPART(hh, Time);\"\n",
    "df10=pd.read_sql(selectSql, con)"
   ]
  },
  {
   "cell_type": "code",
   "execution_count": 57,
   "metadata": {},
   "outputs": [
    {
     "name": "stdout",
     "output_type": "stream",
     "text": [
      "High five! You successfuly sent some data to your account on plotly. View your plot in your browser at https://plot.ly/~galhev6d4d/0 or inside your plot.ly account where it is named 'plot from API'\n"
     ]
    },
    {
     "data": {
      "text/html": [
       "<iframe id=\"igraph\" scrolling=\"no\" style=\"border:none;\" seamless=\"seamless\" src=\"https://plot.ly/~galhev6d4d/0.embed\" height=\"525px\" width=\"100%\"></iframe>"
      ],
      "text/plain": [
       "<plotly.tools.PlotlyDisplay object>"
      ]
     },
     "execution_count": 57,
     "metadata": {},
     "output_type": "execute_result"
    }
   ],
   "source": [
    "import plotly.plotly as py\n",
    "import plotly.graph_objs as go\n",
    "\n",
    "data = [\n",
    "    {\n",
    "        \n",
    "        'x': df10.Weekday_Hour,\n",
    "        'y': df10.Amount, \n",
    "        \"type\": \"box\",\n",
    "    },\n",
    "]\n",
    "\n",
    "layout = go.Layout(\n",
    "    title = \"Average of Agitation 2 Alarms per Hour&Weekday\"\n",
    ")\n",
    "\n",
    "fig = go.Figure(data=data, layout=layout)\n",
    "\n",
    "py.iplot(fig)"
   ]
  },
  {
   "cell_type": "code",
   "execution_count": 58,
   "metadata": {
    "collapsed": true
   },
   "outputs": [],
   "source": [
    "selectSql =\"select DATEADD(dd, 0, DATEDIFF(dd, 0, [Time])) as Date ,DATEPART(dw, Time) as Week,DATENAME(dw, Time),DATEPART(hh, Time), concat(DATENAME(dw, Time),DATEPART(hh, Time)) as Weekday_Hour , sum(Michael_Alarm)/count(distinct [PatientID]) as Amount FROM [Ichilov].[dbo].[SouraskyDB] where [Michael_Type] like '%Obstructive shock 1%'  group by DATEADD(dd, 0, DATEDIFF(dd, 0, [Time])) ,DATEPART(dw, Time),DATENAME(dw, Time),DATEPART(hh, Time), concat(DATENAME(dw, Time),DATEPART(hh, Time)) order by  DATEPART(dw, Time),DATEPART(hh, Time);\"\n",
    "df11=pd.read_sql(selectSql, con)"
   ]
  },
  {
   "cell_type": "code",
   "execution_count": 59,
   "metadata": {},
   "outputs": [
    {
     "data": {
      "text/html": [
       "<iframe id=\"igraph\" scrolling=\"no\" style=\"border:none;\" seamless=\"seamless\" src=\"https://plot.ly/~galhev6d4d/2.embed\" height=\"525px\" width=\"100%\"></iframe>"
      ],
      "text/plain": [
       "<plotly.tools.PlotlyDisplay object>"
      ]
     },
     "execution_count": 59,
     "metadata": {},
     "output_type": "execute_result"
    }
   ],
   "source": [
    "import plotly.plotly as py\n",
    "import plotly.graph_objs as go\n",
    "\n",
    "data = [\n",
    "    {\n",
    "        \n",
    "        'x': df10.Weekday_Hour,\n",
    "        'y': df10.Amount, \n",
    "        \"type\": \"box\",\n",
    "    },\n",
    "]\n",
    "\n",
    "layout = go.Layout(\n",
    "    title = \"Average of Obstructive shock 1 Alarms per Hour&Weekday\"\n",
    ")\n",
    "\n",
    "fig = go.Figure(data=data, layout=layout)\n",
    "\n",
    "py.iplot(fig)"
   ]
  },
  {
   "cell_type": "code",
   "execution_count": 60,
   "metadata": {
    "collapsed": true
   },
   "outputs": [],
   "source": [
    "selectSql =\"select DATEADD(dd, 0, DATEDIFF(dd, 0, [Time])) as Date ,DATEPART(dw, Time) as Week,DATENAME(dw, Time),DATEPART(hh, Time), concat(DATENAME(dw, Time),DATEPART(hh, Time)) as Weekday_Hour , sum(Michael_Alarm)/count(distinct [PatientID]) as Amount FROM [Ichilov].[dbo].[SouraskyDB] where [Michael_Type] like '%Obstructive shock 2%'  group by DATEADD(dd, 0, DATEDIFF(dd, 0, [Time])) ,DATEPART(dw, Time),DATENAME(dw, Time),DATEPART(hh, Time), concat(DATENAME(dw, Time),DATEPART(hh, Time)) order by  DATEPART(dw, Time),DATEPART(hh, Time);\"\n",
    "df12=pd.read_sql(selectSql, con)"
   ]
  },
  {
   "cell_type": "code",
   "execution_count": 61,
   "metadata": {},
   "outputs": [
    {
     "data": {
      "text/html": [
       "<iframe id=\"igraph\" scrolling=\"no\" style=\"border:none;\" seamless=\"seamless\" src=\"https://plot.ly/~galhev6d4d/4.embed\" height=\"525px\" width=\"100%\"></iframe>"
      ],
      "text/plain": [
       "<plotly.tools.PlotlyDisplay object>"
      ]
     },
     "execution_count": 61,
     "metadata": {},
     "output_type": "execute_result"
    }
   ],
   "source": [
    "import plotly.plotly as py\n",
    "import plotly.graph_objs as go\n",
    "\n",
    "data = [\n",
    "    {\n",
    "        \n",
    "        'x': df12.Weekday_Hour,\n",
    "        'y': df12.Amount, \n",
    "        \"type\": \"box\",\n",
    "    },\n",
    "]\n",
    "\n",
    "layout = go.Layout(\n",
    "    title = \"Average of Obstructive shock 2 Alarms per Hour&Weekday\"\n",
    ")\n",
    "\n",
    "fig = go.Figure(data=data, layout=layout)\n",
    "\n",
    "py.iplot(fig)"
   ]
  },
  {
   "cell_type": "code",
   "execution_count": 62,
   "metadata": {
    "collapsed": true
   },
   "outputs": [],
   "source": [
    "selectSql =\"select DATEADD(dd, 0, DATEDIFF(dd, 0, [Time])) as Date ,DATEPART(dw, Time) as Week,DATENAME(dw, Time),DATEPART(hh, Time), concat(DATENAME(dw, Time),DATEPART(hh, Time)) as Weekday_Hour , sum(Michael_Alarm)/count(distinct [PatientID]) as Amount FROM [Ichilov].[dbo].[SouraskyDB] where [Michael_Type] like '%LV shock 1%'  group by DATEADD(dd, 0, DATEDIFF(dd, 0, [Time])) ,DATEPART(dw, Time),DATENAME(dw, Time),DATEPART(hh, Time), concat(DATENAME(dw, Time),DATEPART(hh, Time)) order by  DATEPART(dw, Time),DATEPART(hh, Time);\"\n",
    "df13=pd.read_sql(selectSql, con)"
   ]
  },
  {
   "cell_type": "code",
   "execution_count": 63,
   "metadata": {},
   "outputs": [
    {
     "data": {
      "text/html": [
       "<iframe id=\"igraph\" scrolling=\"no\" style=\"border:none;\" seamless=\"seamless\" src=\"https://plot.ly/~galhev6d4d/6.embed\" height=\"525px\" width=\"100%\"></iframe>"
      ],
      "text/plain": [
       "<plotly.tools.PlotlyDisplay object>"
      ]
     },
     "execution_count": 63,
     "metadata": {},
     "output_type": "execute_result"
    }
   ],
   "source": [
    "import plotly.plotly as py\n",
    "import plotly.graph_objs as go\n",
    "\n",
    "data = [\n",
    "    {\n",
    "        \n",
    "        'x': df13.Weekday_Hour,\n",
    "        'y': df13.Amount, \n",
    "        \"type\": \"box\",\n",
    "    },\n",
    "]\n",
    "\n",
    "layout = go.Layout(\n",
    "    title = \"Average of LV shock 1 Alarms per Hour&Weekday\"\n",
    ")\n",
    "\n",
    "fig = go.Figure(data=data, layout=layout)\n",
    "\n",
    "py.iplot(fig)"
   ]
  },
  {
   "cell_type": "code",
   "execution_count": 64,
   "metadata": {
    "collapsed": true
   },
   "outputs": [],
   "source": [
    "selectSql =\"select DATEADD(dd, 0, DATEDIFF(dd, 0, [Time])) as Date ,DATEPART(dw, Time) as Week,DATENAME(dw, Time),DATEPART(hh, Time), concat(DATENAME(dw, Time),DATEPART(hh, Time)) as Weekday_Hour , sum(Michael_Alarm)/count(distinct [PatientID]) as Amount FROM [Ichilov].[dbo].[SouraskyDB] where [Michael_Type] like '%LV shock 2%'  group by DATEADD(dd, 0, DATEDIFF(dd, 0, [Time])) ,DATEPART(dw, Time),DATENAME(dw, Time),DATEPART(hh, Time), concat(DATENAME(dw, Time),DATEPART(hh, Time)) order by  DATEPART(dw, Time),DATEPART(hh, Time);\"\n",
    "df14=pd.read_sql(selectSql, con)"
   ]
  },
  {
   "cell_type": "code",
   "execution_count": 65,
   "metadata": {},
   "outputs": [
    {
     "data": {
      "text/html": [
       "<iframe id=\"igraph\" scrolling=\"no\" style=\"border:none;\" seamless=\"seamless\" src=\"https://plot.ly/~galhev6d4d/8.embed\" height=\"525px\" width=\"100%\"></iframe>"
      ],
      "text/plain": [
       "<plotly.tools.PlotlyDisplay object>"
      ]
     },
     "execution_count": 65,
     "metadata": {},
     "output_type": "execute_result"
    }
   ],
   "source": [
    "import plotly.plotly as py\n",
    "import plotly.graph_objs as go\n",
    "\n",
    "data = [\n",
    "    {\n",
    "        \n",
    "        'x': df14.Weekday_Hour,\n",
    "        'y': df14.Amount, \n",
    "        \"type\": \"box\",\n",
    "    },\n",
    "]\n",
    "\n",
    "layout = go.Layout(\n",
    "    title = \"Average of LV shock 2 Alarms per Hour&Weekday\"\n",
    ")\n",
    "\n",
    "fig = go.Figure(data=data, layout=layout)\n",
    "\n",
    "py.iplot(fig)"
   ]
  },
  {
   "cell_type": "code",
   "execution_count": 66,
   "metadata": {
    "collapsed": true
   },
   "outputs": [],
   "source": [
    "selectSql =\"select DATEADD(dd, 0, DATEDIFF(dd, 0, [Time])) as Date ,DATEPART(dw, Time) as Week,DATENAME(dw, Time),DATEPART(hh, Time), concat(DATENAME(dw, Time),DATEPART(hh, Time)) as Weekday_Hour , sum(Michael_Alarm)/count(distinct [PatientID]) as Amount FROM [Ichilov].[dbo].[SouraskyDB] where [Michael_Type] like '%Hypovolemia 1%'  group by DATEADD(dd, 0, DATEDIFF(dd, 0, [Time])) ,DATEPART(dw, Time),DATENAME(dw, Time),DATEPART(hh, Time), concat(DATENAME(dw, Time),DATEPART(hh, Time)) order by  DATEPART(dw, Time),DATEPART(hh, Time);\"\n",
    "df15=pd.read_sql(selectSql, con)"
   ]
  },
  {
   "cell_type": "code",
   "execution_count": 67,
   "metadata": {},
   "outputs": [
    {
     "data": {
      "text/html": [
       "<iframe id=\"igraph\" scrolling=\"no\" style=\"border:none;\" seamless=\"seamless\" src=\"https://plot.ly/~galhev6d4d/10.embed\" height=\"525px\" width=\"100%\"></iframe>"
      ],
      "text/plain": [
       "<plotly.tools.PlotlyDisplay object>"
      ]
     },
     "execution_count": 67,
     "metadata": {},
     "output_type": "execute_result"
    }
   ],
   "source": [
    "import plotly.plotly as py\n",
    "import plotly.graph_objs as go\n",
    "\n",
    "data = [\n",
    "    {\n",
    "        \n",
    "        'x': df15.Weekday_Hour,\n",
    "        'y': df15.Amount, \n",
    "        \"type\": \"box\",\n",
    "    },\n",
    "]\n",
    "\n",
    "layout = go.Layout(\n",
    "    title = \"Average of Hypovolemia 1 Alarms per Hour&Weekday\"\n",
    ")\n",
    "\n",
    "fig = go.Figure(data=data, layout=layout)\n",
    "\n",
    "py.iplot(fig)"
   ]
  },
  {
   "cell_type": "code",
   "execution_count": 68,
   "metadata": {
    "collapsed": true
   },
   "outputs": [],
   "source": [
    "selectSql =\"select DATEADD(dd, 0, DATEDIFF(dd, 0, [Time])) as Date ,DATEPART(dw, Time) as Week,DATENAME(dw, Time),DATEPART(hh, Time), concat(DATENAME(dw, Time),DATEPART(hh, Time)) as Weekday_Hour , sum(Michael_Alarm)/count(distinct [PatientID]) as Amount FROM [Ichilov].[dbo].[SouraskyDB] where [Michael_Type] like '%Hypovolemia 3%'  group by DATEADD(dd, 0, DATEDIFF(dd, 0, [Time])) ,DATEPART(dw, Time),DATENAME(dw, Time),DATEPART(hh, Time), concat(DATENAME(dw, Time),DATEPART(hh, Time)) order by  DATEPART(dw, Time),DATEPART(hh, Time);\"\n",
    "df16=pd.read_sql(selectSql, con)"
   ]
  },
  {
   "cell_type": "code",
   "execution_count": 69,
   "metadata": {},
   "outputs": [
    {
     "name": "stderr",
     "output_type": "stream",
     "text": [
      "C:\\Users\\TEMP.BGU-USERS\\AppData\\Local\\Continuum\\Anaconda3\\lib\\site-packages\\plotly\\plotly\\plotly.py:218: UserWarning:\n",
      "\n",
      "Woah there! Look at all those points! Due to browser limitations, the Plotly SVG drawing functions have a hard time graphing more than 500k data points for line charts, or 40k points for other types of charts. Here are some suggestions:\n",
      "(1) Use the `plotly.graph_objs.Scattergl` trace object to generate a WebGl graph.\n",
      "(2) Trying using the image API to return an image instead of a graph URL\n",
      "(3) Use matplotlib\n",
      "(4) See if you can create your visualization with fewer data points\n",
      "\n",
      "If the visualization you're using aggregates points (e.g., box plot, histogram, etc.) you can disregard this warning.\n",
      "\n"
     ]
    },
    {
     "data": {
      "text/html": [
       "<iframe id=\"igraph\" scrolling=\"no\" style=\"border:none;\" seamless=\"seamless\" src=\"https://plot.ly/~galhev6d4d/12.embed\" height=\"525px\" width=\"100%\"></iframe>"
      ],
      "text/plain": [
       "<plotly.tools.PlotlyDisplay object>"
      ]
     },
     "execution_count": 69,
     "metadata": {},
     "output_type": "execute_result"
    }
   ],
   "source": [
    "import plotly.plotly as py\n",
    "import plotly.graph_objs as go\n",
    "\n",
    "data = [\n",
    "    {\n",
    "        \n",
    "        'x': df16.Weekday_Hour,\n",
    "        'y': df16.Amount, \n",
    "        \"type\": \"box\",\n",
    "    },\n",
    "]\n",
    "\n",
    "layout = go.Layout(\n",
    "    title = \"Average of Hypovolemia 3 Alarms per Hour&Weekday\"\n",
    ")\n",
    "\n",
    "fig = go.Figure(data=data, layout=layout)\n",
    "\n",
    "py.iplot(fig)"
   ]
  },
  {
   "cell_type": "code",
   "execution_count": 70,
   "metadata": {
    "collapsed": true
   },
   "outputs": [],
   "source": [
    "selectSql =\"select DATEADD(dd, 0, DATEDIFF(dd, 0, [Time])) as Date ,DATEPART(dw, Time) as Week,DATENAME(dw, Time),DATEPART(hh, Time), concat(DATENAME(dw, Time),DATEPART(hh, Time)) as Weekday_Hour , sum(Michael_Alarm)/count(distinct [PatientID]) as Amount FROM [Ichilov].[dbo].[SouraskyDB] where [Michael_Type] like '%Hypovolemia 4%'  group by DATEADD(dd, 0, DATEDIFF(dd, 0, [Time])) ,DATEPART(dw, Time),DATENAME(dw, Time),DATEPART(hh, Time), concat(DATENAME(dw, Time),DATEPART(hh, Time)) order by  DATEPART(dw, Time),DATEPART(hh, Time);\"\n",
    "df17=pd.read_sql(selectSql, con)"
   ]
  },
  {
   "cell_type": "code",
   "execution_count": 71,
   "metadata": {},
   "outputs": [
    {
     "data": {
      "text/html": [
       "<iframe id=\"igraph\" scrolling=\"no\" style=\"border:none;\" seamless=\"seamless\" src=\"https://plot.ly/~galhev6d4d/14.embed\" height=\"525px\" width=\"100%\"></iframe>"
      ],
      "text/plain": [
       "<plotly.tools.PlotlyDisplay object>"
      ]
     },
     "execution_count": 71,
     "metadata": {},
     "output_type": "execute_result"
    }
   ],
   "source": [
    "import plotly.plotly as py\n",
    "import plotly.graph_objs as go\n",
    "\n",
    "data = [\n",
    "    {\n",
    "        \n",
    "        'x': df17.Weekday_Hour,\n",
    "        'y': df17.Amount, \n",
    "        \"type\": \"box\",\n",
    "    },\n",
    "]\n",
    "\n",
    "layout = go.Layout(\n",
    "    title = \"Average of Hypovolemia 4 Alarms per Hour&Weekday\"\n",
    ")\n",
    "\n",
    "fig = go.Figure(data=data, layout=layout)\n",
    "\n",
    "py.iplot(fig)"
   ]
  },
  {
   "cell_type": "code",
   "execution_count": null,
   "metadata": {
    "collapsed": true
   },
   "outputs": [],
   "source": []
  }
 ],
 "metadata": {
  "kernelspec": {
   "display_name": "Python 3",
   "language": "python",
   "name": "python3"
  },
  "language_info": {
   "codemirror_mode": {
    "name": "ipython",
    "version": 3
   },
   "file_extension": ".py",
   "mimetype": "text/x-python",
   "name": "python",
   "nbconvert_exporter": "python",
   "pygments_lexer": "ipython3",
   "version": "3.6.1"
  }
 },
 "nbformat": 4,
 "nbformat_minor": 2
}
