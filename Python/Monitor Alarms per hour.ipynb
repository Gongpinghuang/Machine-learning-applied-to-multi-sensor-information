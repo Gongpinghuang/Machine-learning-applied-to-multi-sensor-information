{
 "cells": [
  {
   "cell_type": "code",
   "execution_count": 4,
   "metadata": {},
   "outputs": [
    {
     "name": "stdout",
     "output_type": "stream",
     "text": [
      "Collecting plotly\n",
      "  Downloading plotly-2.0.12.tar.gz (1.0MB)\n",
      "Requirement already satisfied: decorator>=4.0.6 in c:\\users\\temp.bgu-users\\appdata\\local\\continuum\\anaconda3\\lib\\site-packages (from plotly)\n",
      "Requirement already satisfied: nbformat>=4.2 in c:\\users\\temp.bgu-users\\appdata\\local\\continuum\\anaconda3\\lib\\site-packages (from plotly)\n",
      "Requirement already satisfied: pytz in c:\\users\\temp.bgu-users\\appdata\\local\\continuum\\anaconda3\\lib\\site-packages (from plotly)\n",
      "Requirement already satisfied: requests in c:\\users\\temp.bgu-users\\appdata\\local\\continuum\\anaconda3\\lib\\site-packages (from plotly)\n",
      "Requirement already satisfied: six in c:\\users\\temp.bgu-users\\appdata\\local\\continuum\\anaconda3\\lib\\site-packages (from plotly)\n",
      "Building wheels for collected packages: plotly\n",
      "  Running setup.py bdist_wheel for plotly: started\n",
      "  Running setup.py bdist_wheel for plotly: finished with status 'done'\n",
      "  Stored in directory: C:\\Users\\TEMP.BGU-USERS\\AppData\\Local\\pip\\Cache\\wheels\\f2\\03\\c4\\c588dd5fd82f7238a463f78843910e0da4db75ed1baf7181a4\n",
      "Successfully built plotly\n",
      "Installing collected packages: plotly\n",
      "Successfully installed plotly-2.0.12\n"
     ]
    }
   ],
   "source": [
    "!pip install plotly"
   ]
  },
  {
   "cell_type": "code",
   "execution_count": 27,
   "metadata": {
    "collapsed": true
   },
   "outputs": [],
   "source": [
    "import pyodbc\n",
    "import pandas as pd\n",
    "import math\n",
    "import numpy as np\n",
    "\n",
    "import plotly \n",
    "plotly.tools.set_credentials_file(username='galhever', api_key='jM7CTJEIUeq1HUguzee3')"
   ]
  },
  {
   "cell_type": "code",
   "execution_count": 7,
   "metadata": {
    "collapsed": true
   },
   "outputs": [],
   "source": [
    "con = pyodbc.connect('DRIVER={SQL Server};SERVER=localhost;DATABASE=Ichilov')\n",
    "selectCur = con.cursor()\n"
   ]
  },
  {
   "cell_type": "code",
   "execution_count": 8,
   "metadata": {
    "collapsed": true
   },
   "outputs": [],
   "source": [
    "import plotly.plotly as py\n",
    "from plotly.graph_objs import *"
   ]
  },
  {
   "cell_type": "code",
   "execution_count": 9,
   "metadata": {
    "collapsed": true
   },
   "outputs": [],
   "source": [
    "selectSql =\"select DATEADD(dd, 0, DATEDIFF(dd, 0, [Time])) as Date ,DATEPART(hh, Time) as Hour ,sum(Alarm) as Amount FROM [Ichilov].[dbo].[SouraskyDB] where Alarm = 1 group by DATEADD(dd, 0, DATEDIFF(dd, 0, [Time])) , DATEPART(hh, Time) order by Hour,Date ;\"\n",
    "df=pd.read_sql(selectSql, con)"
   ]
  },
  {
   "cell_type": "code",
   "execution_count": 10,
   "metadata": {},
   "outputs": [
    {
     "data": {
      "text/html": [
       "<iframe id=\"igraph\" scrolling=\"no\" style=\"border:none;\" seamless=\"seamless\" src=\"https://plot.ly/~galhever/76.embed\" height=\"525px\" width=\"100%\"></iframe>"
      ],
      "text/plain": [
       "<plotly.tools.PlotlyDisplay object>"
      ]
     },
     "execution_count": 10,
     "metadata": {},
     "output_type": "execute_result"
    }
   ],
   "source": [
    "import plotly.plotly as py\n",
    "import plotly.graph_objs as go\n",
    "from numpy import * \n",
    "\n",
    "N=24\n",
    "c = ['hsl('+str(h)+',50%'+',50%)' for h in linspace(0, 360, N)]\n",
    "\n",
    "\n",
    "data = [{\n",
    "    'name': i ,\n",
    "    'y': df.Amount[df.Hour==i], \n",
    "    'type':'box',\n",
    "    'marker':{'color': c[i]} \n",
    "    } for i in range(N)]\n",
    "\n",
    "\n",
    "layout = go.Layout(\n",
    "    title = \"Amount of Monitor Alarms per Hour\"\n",
    ")\n",
    "\n",
    "fig = go.Figure(data=data,layout=layout)\n",
    "py.iplot(fig, filename = \"Amount of Monitor Alarms per Hour\")"
   ]
  },
  {
   "cell_type": "code",
   "execution_count": 13,
   "metadata": {
    "collapsed": true
   },
   "outputs": [],
   "source": [
    "selectSql =\"select DATEADD(dd, 0, DATEDIFF(dd, 0, [Time])) as Date ,DATEPART(hh, Time) as Hour ,sum(Alarm)/count(distinct [PatientID]) as Amount FROM [Ichilov].[dbo].[SouraskyDB] group by DATEADD(dd, 0, DATEDIFF(dd, 0, [Time])) , DATEPART(hh, Time) order by Hour,Date ;\"\n",
    "df1=pd.read_sql(selectSql, con)"
   ]
  },
  {
   "cell_type": "code",
   "execution_count": 14,
   "metadata": {},
   "outputs": [
    {
     "data": {
      "text/html": [
       "<iframe id=\"igraph\" scrolling=\"no\" style=\"border:none;\" seamless=\"seamless\" src=\"https://plot.ly/~galhever/44.embed\" height=\"525px\" width=\"100%\"></iframe>"
      ],
      "text/plain": [
       "<plotly.tools.PlotlyDisplay object>"
      ]
     },
     "execution_count": 14,
     "metadata": {},
     "output_type": "execute_result"
    }
   ],
   "source": [
    "\n",
    "data = [{\n",
    "    'name': i ,\n",
    "    'y': df1.Amount[df1.Hour==i], \n",
    "    'type':'box',\n",
    "    'marker':{'color': c[i]} \n",
    "    } for i in range(N)]\n",
    "\n",
    "\n",
    "layout = go.Layout(\n",
    "    title = \"Average of Monitor Alarms per Hour\"\n",
    ")\n",
    "\n",
    "fig = go.Figure(data=data,layout=layout)\n",
    "py.iplot(fig, filename = \"Average of Michael Alarms per Hour\")"
   ]
  },
  {
   "cell_type": "code",
   "execution_count": 15,
   "metadata": {
    "collapsed": true
   },
   "outputs": [],
   "source": [
    "selectSql =\"select DATEADD(dd, 0, DATEDIFF(dd, 0, [Time])) as Date ,DATEPART(hh, Time) as Hour ,sum(case when ([HR]>120 or [HR]<60) then 1 else 0 end) as Amount FROM [Ichilov].[dbo].[SouraskyDB] group by DATEADD(dd, 0, DATEDIFF(dd, 0, [Time])) , DATEPART(hh, Time) order by Hour,Date ;\"\n",
    "df2=pd.read_sql(selectSql, con)"
   ]
  },
  {
   "cell_type": "code",
   "execution_count": 16,
   "metadata": {},
   "outputs": [
    {
     "data": {
      "text/html": [
       "<iframe id=\"igraph\" scrolling=\"no\" style=\"border:none;\" seamless=\"seamless\" src=\"https://plot.ly/~galhever/42.embed\" height=\"525px\" width=\"100%\"></iframe>"
      ],
      "text/plain": [
       "<plotly.tools.PlotlyDisplay object>"
      ]
     },
     "execution_count": 16,
     "metadata": {},
     "output_type": "execute_result"
    }
   ],
   "source": [
    "\n",
    "data = [{\n",
    "    'name': i ,\n",
    "    'y': df2.Amount[df2.Hour==i], \n",
    "    'type':'box',\n",
    "    'marker':{'color': c[i]} \n",
    "    } for i in range(N)]\n",
    "\n",
    "\n",
    "layout = go.Layout(\n",
    "    title = \"Amount of HR Monitor Alarms per Hour\"\n",
    ")\n",
    "\n",
    "fig = go.Figure(data=data,layout=layout)\n",
    "py.iplot(fig, filename = \"Amount of Michael Alarms per Hour\")"
   ]
  },
  {
   "cell_type": "code",
   "execution_count": 17,
   "metadata": {
    "collapsed": true
   },
   "outputs": [],
   "source": [
    "selectSql =\"select DATEADD(dd, 0, DATEDIFF(dd, 0, [Time])) as Date ,DATEPART(hh, Time) as Hour ,sum(case when ([HR]>120 or [HR]<60) then 1 else 0 end)/count(distinct [PatientID]) as Amount FROM [Ichilov].[dbo].[SouraskyDB] group by DATEADD(dd, 0, DATEDIFF(dd, 0, [Time])) , DATEPART(hh, Time) order by Hour,Date ;\"\n",
    "df3=pd.read_sql(selectSql, con)"
   ]
  },
  {
   "cell_type": "code",
   "execution_count": 18,
   "metadata": {},
   "outputs": [
    {
     "data": {
      "text/html": [
       "<iframe id=\"igraph\" scrolling=\"no\" style=\"border:none;\" seamless=\"seamless\" src=\"https://plot.ly/~galhever/44.embed\" height=\"525px\" width=\"100%\"></iframe>"
      ],
      "text/plain": [
       "<plotly.tools.PlotlyDisplay object>"
      ]
     },
     "execution_count": 18,
     "metadata": {},
     "output_type": "execute_result"
    }
   ],
   "source": [
    "# Each box is represented by a dict that contains the data, the type, and the colour. \n",
    "# Use list comprehension to describe N boxes, each with a different colour and with different randomly generated data:\n",
    "data = [{\n",
    "    'name': i ,\n",
    "    'y': df3.Amount[df3.Hour==i], \n",
    "    'type':'box',\n",
    "    'marker':{'color': c[i]} \n",
    "    } for i in range(N)]\n",
    "\n",
    "\n",
    "layout = go.Layout(\n",
    "    title = \"Average of HR Monitor Alarms per Hour\"\n",
    ")\n",
    "\n",
    "fig = go.Figure(data=data,layout=layout)\n",
    "py.iplot(fig, filename = \"Average of HR Monitor Alarms per Hour\")"
   ]
  },
  {
   "cell_type": "code",
   "execution_count": 19,
   "metadata": {
    "collapsed": true
   },
   "outputs": [],
   "source": [
    "selectSql =\"select DATEADD(dd, 0, DATEDIFF(dd, 0, [Time])) as Date ,DATEPART(hh, Time) as Hour ,sum(case when ([ArtBPS]>180 or [ArtBPS]<90) then 1 else 0 end) as Amount FROM [Ichilov].[dbo].[SouraskyDB] group by DATEADD(dd, 0, DATEDIFF(dd, 0, [Time])) , DATEPART(hh, Time) order by Hour,Date ;\"\n",
    "df5=pd.read_sql(selectSql, con)"
   ]
  },
  {
   "cell_type": "code",
   "execution_count": 20,
   "metadata": {},
   "outputs": [
    {
     "data": {
      "text/html": [
       "<iframe id=\"igraph\" scrolling=\"no\" style=\"border:none;\" seamless=\"seamless\" src=\"https://plot.ly/~galhever/78.embed\" height=\"525px\" width=\"100%\"></iframe>"
      ],
      "text/plain": [
       "<plotly.tools.PlotlyDisplay object>"
      ]
     },
     "execution_count": 20,
     "metadata": {},
     "output_type": "execute_result"
    }
   ],
   "source": [
    "\n",
    "data = [{\n",
    "    'name': i ,\n",
    "    'y': df5.Amount[df5.Hour==i], \n",
    "    'type':'box',\n",
    "    'marker':{'color': c[i]} \n",
    "    } for i in range(N)]\n",
    "\n",
    "\n",
    "layout = go.Layout(\n",
    "    title = \"Amount of ArtBPS Monitor Alarms per Hour\"\n",
    ")\n",
    "\n",
    "fig = go.Figure(data=data,layout=layout)\n",
    "py.iplot(fig, filename = \"Amount of ArtBPS Monitor Alarms per Hour\")"
   ]
  },
  {
   "cell_type": "code",
   "execution_count": 23,
   "metadata": {
    "collapsed": true
   },
   "outputs": [],
   "source": [
    "selectSql =\"select DATEADD(dd, 0, DATEDIFF(dd, 0, [Time])) as Date ,DATEPART(hh, Time) as Hour ,sum(case when ([ArtBPS]>180 or [ArtBPS]<90) then 1 else 0 end)/count(distinct [PatientID]) as Amount FROM [Ichilov].[dbo].[SouraskyDB] group by DATEADD(dd, 0, DATEDIFF(dd, 0, [Time])) , DATEPART(hh, Time) order by Hour,Date ;\"\n",
    "df6=pd.read_sql(selectSql, con)"
   ]
  },
  {
   "cell_type": "code",
   "execution_count": 24,
   "metadata": {},
   "outputs": [
    {
     "data": {
      "text/html": [
       "<iframe id=\"igraph\" scrolling=\"no\" style=\"border:none;\" seamless=\"seamless\" src=\"https://plot.ly/~galhever/42.embed\" height=\"525px\" width=\"100%\"></iframe>"
      ],
      "text/plain": [
       "<plotly.tools.PlotlyDisplay object>"
      ]
     },
     "execution_count": 24,
     "metadata": {},
     "output_type": "execute_result"
    }
   ],
   "source": [
    "\n",
    "data = [{\n",
    "    'name': i ,\n",
    "    'y': df6.Amount[df6.Hour==i], \n",
    "    'type':'box',\n",
    "    'marker':{'color': c[i]} \n",
    "    } for i in range(N)]\n",
    "\n",
    "\n",
    "layout = go.Layout(\n",
    "    title = \"Average of ArtBPS Monitor Alarms per Hour\"\n",
    ")\n",
    "\n",
    "fig = go.Figure(data=data,layout=layout)\n",
    "py.iplot(fig, filename = \"Amount of Michael Alarms per Hour\")"
   ]
  },
  {
   "cell_type": "code",
   "execution_count": 32,
   "metadata": {
    "collapsed": true
   },
   "outputs": [],
   "source": [
    "import pyodbc\n",
    "import pandas as pd\n",
    "import math\n",
    "import numpy as np\n",
    "\n",
    "import plotly \n",
    "plotly.tools.set_credentials_file(username='galil', api_key='IuTLbnY7DCXGO3dP5is2')"
   ]
  },
  {
   "cell_type": "code",
   "execution_count": 33,
   "metadata": {
    "collapsed": true
   },
   "outputs": [],
   "source": [
    "selectSql =\"select DATEADD(dd, 0, DATEDIFF(dd, 0, [Time])) as Date ,DATEPART(hh, Time) as Hour ,sum(case when ([NiBPS]>180 or [NiBPS]<90) then 1 else 0 end) as Amount FROM [Ichilov].[dbo].[SouraskyDB] group by DATEADD(dd, 0, DATEDIFF(dd, 0, [Time])) , DATEPART(hh, Time) order by Hour,Date ;\"\n",
    "df6=pd.read_sql(selectSql, con)"
   ]
  },
  {
   "cell_type": "code",
   "execution_count": 34,
   "metadata": {},
   "outputs": [
    {
     "name": "stdout",
     "output_type": "stream",
     "text": [
      "High five! You successfuly sent some data to your account on plotly. View your plot in your browser at https://plot.ly/~galil/0 or inside your plot.ly account where it is named 'Amount of NiBPS Monitor Alarms per Hour'\n"
     ]
    },
    {
     "data": {
      "text/html": [
       "<iframe id=\"igraph\" scrolling=\"no\" style=\"border:none;\" seamless=\"seamless\" src=\"https://plot.ly/~galil/0.embed\" height=\"525px\" width=\"100%\"></iframe>"
      ],
      "text/plain": [
       "<plotly.tools.PlotlyDisplay object>"
      ]
     },
     "execution_count": 34,
     "metadata": {},
     "output_type": "execute_result"
    }
   ],
   "source": [
    "\n",
    "data = [{\n",
    "    'name': i ,\n",
    "    'y': df6.Amount[df6.Hour==i], \n",
    "    'type':'box',\n",
    "    'marker':{'color': c[i]} \n",
    "    } for i in range(N)]\n",
    "\n",
    "\n",
    "layout = go.Layout(\n",
    "    title = \"Amount of NiBPS Monitor Alarms per Hour\"\n",
    ")\n",
    "\n",
    "fig = go.Figure(data=data,layout=layout)\n",
    "py.iplot(fig, filename = \"Amount of NiBPS Monitor Alarms per Hour\")"
   ]
  },
  {
   "cell_type": "code",
   "execution_count": 37,
   "metadata": {
    "collapsed": true
   },
   "outputs": [],
   "source": [
    "selectSql =\"select DATEADD(dd, 0, DATEDIFF(dd, 0, [Time])) as Date ,DATEPART(hh, Time) as Hour ,sum(case when ([NiBPS]>180 or [NiBPS]<90) then 1 else 0 end)/count(distinct [PatientID]) as Amount FROM [Ichilov].[dbo].[SouraskyDB] group by DATEADD(dd, 0, DATEDIFF(dd, 0, [Time])) , DATEPART(hh, Time) order by Hour,Date ;\"\n",
    "df7=pd.read_sql(selectSql, con)"
   ]
  },
  {
   "cell_type": "code",
   "execution_count": 38,
   "metadata": {},
   "outputs": [
    {
     "data": {
      "text/html": [
       "<iframe id=\"igraph\" scrolling=\"no\" style=\"border:none;\" seamless=\"seamless\" src=\"https://plot.ly/~galil/4.embed\" height=\"525px\" width=\"100%\"></iframe>"
      ],
      "text/plain": [
       "<plotly.tools.PlotlyDisplay object>"
      ]
     },
     "execution_count": 38,
     "metadata": {},
     "output_type": "execute_result"
    }
   ],
   "source": [
    "\n",
    "data = [{\n",
    "    'name': i ,\n",
    "    'y': df7.Amount[df7.Hour==i], \n",
    "    'type':'box',\n",
    "    'marker':{'color': c[i]} \n",
    "    } for i in range(N)]\n",
    "\n",
    "\n",
    "layout = go.Layout(\n",
    "    title = \"Average of NiBPS Monitor Alarms per Hour\"\n",
    ")\n",
    "\n",
    "fig = go.Figure(data=data,layout=layout)\n",
    "py.iplot(fig, filename = \"Average of NiBPS Alarms per Hour\")"
   ]
  },
  {
   "cell_type": "code",
   "execution_count": 39,
   "metadata": {
    "collapsed": true
   },
   "outputs": [],
   "source": [
    "selectSql =\"select DATEADD(dd, 0, DATEDIFF(dd, 0, [Time])) as Date ,DATEPART(hh, Time) as Hour ,sum(case when ([ArtBPM]>125 or [ArtBPM]<65) then 1 else 0 end) as Amount FROM [Ichilov].[dbo].[SouraskyDB] group by DATEADD(dd, 0, DATEDIFF(dd, 0, [Time])) , DATEPART(hh, Time) order by Hour,Date ;\"\n",
    "df8=pd.read_sql(selectSql, con)"
   ]
  },
  {
   "cell_type": "code",
   "execution_count": 40,
   "metadata": {},
   "outputs": [
    {
     "data": {
      "text/html": [
       "<iframe id=\"igraph\" scrolling=\"no\" style=\"border:none;\" seamless=\"seamless\" src=\"https://plot.ly/~galil/6.embed\" height=\"525px\" width=\"100%\"></iframe>"
      ],
      "text/plain": [
       "<plotly.tools.PlotlyDisplay object>"
      ]
     },
     "execution_count": 40,
     "metadata": {},
     "output_type": "execute_result"
    }
   ],
   "source": [
    "data = [{\n",
    "    'name': i ,\n",
    "    'y': df8.Amount[df8.Hour==i], \n",
    "    'type':'box',\n",
    "    'marker':{'color': c[i]} \n",
    "    } for i in range(N)]\n",
    "\n",
    "\n",
    "layout = go.Layout(\n",
    "    title = \"Amount of ArtBPM Monitor Alarms per Hour\"\n",
    ")\n",
    "\n",
    "fig = go.Figure(data=data,layout=layout)\n",
    "py.iplot(fig, filename = \"Amount of ArtBPM Monitor Alarms per Hour\")"
   ]
  },
  {
   "cell_type": "code",
   "execution_count": 44,
   "metadata": {
    "collapsed": true
   },
   "outputs": [],
   "source": [
    "selectSql =\"select DATEADD(dd, 0, DATEDIFF(dd, 0, [Time])) as Date ,DATEPART(hh, Time) as Hour ,sum(case when ([ArtBPM]>125 or [ArtBPM]<65) then 1 else 0 end)/count(distinct [PatientID]) as Amount FROM [Ichilov].[dbo].[SouraskyDB] group by DATEADD(dd, 0, DATEDIFF(dd, 0, [Time])) , DATEPART(hh, Time) order by Hour,Date ;\"\n",
    "df9=pd.read_sql(selectSql, con)"
   ]
  },
  {
   "cell_type": "code",
   "execution_count": 45,
   "metadata": {},
   "outputs": [
    {
     "data": {
      "text/html": [
       "<iframe id=\"igraph\" scrolling=\"no\" style=\"border:none;\" seamless=\"seamless\" src=\"https://plot.ly/~galil/8.embed\" height=\"525px\" width=\"100%\"></iframe>"
      ],
      "text/plain": [
       "<plotly.tools.PlotlyDisplay object>"
      ]
     },
     "execution_count": 45,
     "metadata": {},
     "output_type": "execute_result"
    }
   ],
   "source": [
    "\n",
    "data = [{\n",
    "    'name': i ,\n",
    "    'y': df9.Amount[df9.Hour==i], \n",
    "    'type':'box',\n",
    "    'marker':{'color': c[i]} \n",
    "    } for i in range(N)]\n",
    "\n",
    "\n",
    "layout = go.Layout(\n",
    "    title = \"Average of ArtBPM Monitor Alarms per Hour\"\n",
    ")\n",
    "\n",
    "fig = go.Figure(data=data,layout=layout)\n",
    "py.iplot(fig, filename = \"Average of ArtBPM Monitor Alarms per Hour\")"
   ]
  },
  {
   "cell_type": "code",
   "execution_count": 46,
   "metadata": {
    "collapsed": true
   },
   "outputs": [],
   "source": [
    "selectSql =\"select DATEADD(dd, 0, DATEDIFF(dd, 0, [Time])) as Date ,DATEPART(hh, Time) as Hour ,sum(case when ([Spo2]>100 or [Spo2]<90) then 1 else 0 end) as Amount FROM [Ichilov].[dbo].[SouraskyDB] group by DATEADD(dd, 0, DATEDIFF(dd, 0, [Time])) , DATEPART(hh, Time) order by Hour,Date ;\"\n",
    "df10=pd.read_sql(selectSql, con)"
   ]
  },
  {
   "cell_type": "code",
   "execution_count": 48,
   "metadata": {},
   "outputs": [
    {
     "data": {
      "text/html": [
       "<iframe id=\"igraph\" scrolling=\"no\" style=\"border:none;\" seamless=\"seamless\" src=\"https://plot.ly/~galil/10.embed\" height=\"525px\" width=\"100%\"></iframe>"
      ],
      "text/plain": [
       "<plotly.tools.PlotlyDisplay object>"
      ]
     },
     "execution_count": 48,
     "metadata": {},
     "output_type": "execute_result"
    }
   ],
   "source": [
    "\n",
    "data = [{\n",
    "    'name': i ,\n",
    "    'y': df10.Amount[df10.Hour==i], \n",
    "    'type':'box',\n",
    "    'marker':{'color': c[i]} \n",
    "    } for i in range(N)]\n",
    "\n",
    "\n",
    "layout = go.Layout(\n",
    "    title = \"Amount of Spo2 Monitor Alarms per Hour\"\n",
    ")\n",
    "\n",
    "fig = go.Figure(data=data,layout=layout)\n",
    "py.iplot(fig, filename = \"Amount of Spo2 Monitor Alarms per Hour\")"
   ]
  },
  {
   "cell_type": "code",
   "execution_count": 49,
   "metadata": {
    "collapsed": true
   },
   "outputs": [],
   "source": [
    "selectSql =\"select DATEADD(dd, 0, DATEDIFF(dd, 0, [Time])) as Date ,DATEPART(hh, Time) as Hour ,sum(case when ([Spo2]>100 or [Spo2]<90) then 1 else 0 end)/count(distinct [PatientID]) as Amount FROM [Ichilov].[dbo].[SouraskyDB] group by DATEADD(dd, 0, DATEDIFF(dd, 0, [Time])) , DATEPART(hh, Time) order by Hour,Date ;\"\n",
    "df11=pd.read_sql(selectSql, con)"
   ]
  },
  {
   "cell_type": "code",
   "execution_count": 50,
   "metadata": {},
   "outputs": [
    {
     "data": {
      "text/html": [
       "<iframe id=\"igraph\" scrolling=\"no\" style=\"border:none;\" seamless=\"seamless\" src=\"https://plot.ly/~galil/12.embed\" height=\"525px\" width=\"100%\"></iframe>"
      ],
      "text/plain": [
       "<plotly.tools.PlotlyDisplay object>"
      ]
     },
     "execution_count": 50,
     "metadata": {},
     "output_type": "execute_result"
    }
   ],
   "source": [
    "\n",
    "data = [{\n",
    "    'name': i ,\n",
    "    'y': df11.Amount[df11.Hour==i], \n",
    "    'type':'box',\n",
    "    'marker':{'color': c[i]} \n",
    "    } for i in range(N)]\n",
    "\n",
    "\n",
    "layout = go.Layout(\n",
    "    title = \"Average of Spo2 Monitor Alarms per Hour\"\n",
    ")\n",
    "\n",
    "fig = go.Figure(data=data,layout=layout)\n",
    "py.iplot(fig, filename = \"Average of Spo2 Monitor Alarms per Hour\")"
   ]
  },
  {
   "cell_type": "code",
   "execution_count": 51,
   "metadata": {
    "collapsed": true
   },
   "outputs": [],
   "source": [
    "selectSql =\"select DATEADD(dd, 0, DATEDIFF(dd, 0, [Time])) as Date ,DATEPART(hh, Time) as Hour ,sum(case when ([CVP]>15 or [CVP]<0) then 1 else 0 end) as Amount FROM [Ichilov].[dbo].[SouraskyDB] group by DATEADD(dd, 0, DATEDIFF(dd, 0, [Time])) , DATEPART(hh, Time) order by Hour,Date ;\"\n",
    "df12=pd.read_sql(selectSql, con)"
   ]
  },
  {
   "cell_type": "code",
   "execution_count": 52,
   "metadata": {},
   "outputs": [
    {
     "data": {
      "text/html": [
       "<iframe id=\"igraph\" scrolling=\"no\" style=\"border:none;\" seamless=\"seamless\" src=\"https://plot.ly/~galil/14.embed\" height=\"525px\" width=\"100%\"></iframe>"
      ],
      "text/plain": [
       "<plotly.tools.PlotlyDisplay object>"
      ]
     },
     "execution_count": 52,
     "metadata": {},
     "output_type": "execute_result"
    }
   ],
   "source": [
    "\n",
    "data = [{\n",
    "    'name': i ,\n",
    "    'y': df12.Amount[df12.Hour==i], \n",
    "    'type':'box',\n",
    "    'marker':{'color': c[i]} \n",
    "    } for i in range(N)]\n",
    "\n",
    "\n",
    "layout = go.Layout(\n",
    "    title = \"Amount of CVP Monitor Alarms per Hour\"\n",
    ")\n",
    "\n",
    "fig = go.Figure(data=data,layout=layout)\n",
    "py.iplot(fig, filename = \"Amount of CVP Monitor Alarms per Hour\")"
   ]
  },
  {
   "cell_type": "code",
   "execution_count": 53,
   "metadata": {
    "collapsed": true
   },
   "outputs": [],
   "source": [
    "selectSql =\"select DATEADD(dd, 0, DATEDIFF(dd, 0, [Time])) as Date ,DATEPART(hh, Time) as Hour ,sum(case when ([CVP]>15 or [CVP]<0) then 1 else 0 end)/count(distinct [PatientID]) as Amount FROM [Ichilov].[dbo].[SouraskyDB] group by DATEADD(dd, 0, DATEDIFF(dd, 0, [Time])) , DATEPART(hh, Time) order by Hour,Date ;\"\n",
    "df13=pd.read_sql(selectSql, con)"
   ]
  },
  {
   "cell_type": "code",
   "execution_count": 54,
   "metadata": {},
   "outputs": [
    {
     "data": {
      "text/html": [
       "<iframe id=\"igraph\" scrolling=\"no\" style=\"border:none;\" seamless=\"seamless\" src=\"https://plot.ly/~galil/16.embed\" height=\"525px\" width=\"100%\"></iframe>"
      ],
      "text/plain": [
       "<plotly.tools.PlotlyDisplay object>"
      ]
     },
     "execution_count": 54,
     "metadata": {},
     "output_type": "execute_result"
    }
   ],
   "source": [
    "\n",
    "data = [{\n",
    "    'name': i ,\n",
    "    'y': df13.Amount[df13.Hour==i], \n",
    "    'type':'box',\n",
    "    'marker':{'color': c[i]} \n",
    "    } for i in range(N)]\n",
    "\n",
    "\n",
    "layout = go.Layout(\n",
    "    title = \"Average of CVP Monitor Alarms per Hour\"\n",
    ")\n",
    "\n",
    "fig = go.Figure(data=data,layout=layout)\n",
    "py.iplot(fig, filename = \"Average of CVP Monitor Alarms per Hour\")"
   ]
  },
  {
   "cell_type": "code",
   "execution_count": null,
   "metadata": {
    "collapsed": true
   },
   "outputs": [],
   "source": []
  }
 ],
 "metadata": {
  "kernelspec": {
   "display_name": "Python 3",
   "language": "python",
   "name": "python3"
  },
  "language_info": {
   "codemirror_mode": {
    "name": "ipython",
    "version": 3
   },
   "file_extension": ".py",
   "mimetype": "text/x-python",
   "name": "python",
   "nbconvert_exporter": "python",
   "pygments_lexer": "ipython3",
   "version": "3.6.1"
  }
 },
 "nbformat": 4,
 "nbformat_minor": 2
}
