{
 "cells": [
  {
   "cell_type": "code",
   "execution_count": 7,
   "metadata": {
    "collapsed": true
   },
   "outputs": [],
   "source": [
    "import pyodbc\n",
    "import pandas as pd\n",
    "import math\n",
    "import numpy as np\n",
    "\n",
    "import plotly \n",
    "plotly.tools.set_credentials_file(username='galil', api_key='IuTLbnY7DCXGO3dP5is2')"
   ]
  },
  {
   "cell_type": "code",
   "execution_count": 8,
   "metadata": {
    "collapsed": true
   },
   "outputs": [],
   "source": [
    "con = pyodbc.connect('DRIVER={SQL Server};SERVER=localhost;DATABASE=Ichilov')\n",
    "selectCur = con.cursor()\n"
   ]
  },
  {
   "cell_type": "code",
   "execution_count": 9,
   "metadata": {
    "collapsed": true
   },
   "outputs": [],
   "source": [
    "import plotly.plotly as py\n",
    "from plotly.graph_objs import *"
   ]
  },
  {
   "cell_type": "code",
   "execution_count": 10,
   "metadata": {
    "collapsed": true
   },
   "outputs": [],
   "source": [
    "selectSql =\"select DATEADD(dd, 0, DATEDIFF(dd, 0, [Time])) as Date ,DATEPART(dw, Time) as Weekday ,sum(Michael_Alarm) as Amount FROM [Ichilov].[dbo].[SouraskyDB] where Michael_Alarm = 1 group by DATEADD(dd, 0, DATEDIFF(dd, 0, [Time])) , DATEPART(dw, Time) order by Weekday,Date ;\"\n",
    "df=pd.read_sql(selectSql, con)"
   ]
  },
  {
   "cell_type": "code",
   "execution_count": 11,
   "metadata": {
    "collapsed": true
   },
   "outputs": [],
   "source": [
    "import plotly.plotly as py\n",
    "import plotly.graph_objs as go\n",
    "from numpy import * \n",
    "\n",
    "N=8\n",
    "c = ['hsl('+str(h)+',50%'+',50%)' for h in linspace(0, 360, N)]"
   ]
  },
  {
   "cell_type": "code",
   "execution_count": 12,
   "metadata": {},
   "outputs": [
    {
     "data": {
      "text/html": [
       "<iframe id=\"igraph\" scrolling=\"no\" style=\"border:none;\" seamless=\"seamless\" src=\"https://plot.ly/~galil/18.embed\" height=\"525px\" width=\"100%\"></iframe>"
      ],
      "text/plain": [
       "<plotly.tools.PlotlyDisplay object>"
      ]
     },
     "execution_count": 12,
     "metadata": {},
     "output_type": "execute_result"
    }
   ],
   "source": [
    "\n",
    "data = [{\n",
    "    'name': i ,\n",
    "    'y': df.Amount[df.Weekday==i], \n",
    "    'type':'box',\n",
    "    'marker':{'color': c[i]} \n",
    "    } for i in range(N)]\n",
    "\n",
    "\n",
    "layout = go.Layout(\n",
    "    title = \"Amount of Michael Alarms per Weekday\"\n",
    ")\n",
    "\n",
    "fig = go.Figure(data=data,layout=layout)\n",
    "py.iplot(fig, filename = \"Amount of Michael Alarms per Weekday\")"
   ]
  },
  {
   "cell_type": "code",
   "execution_count": 13,
   "metadata": {
    "collapsed": true
   },
   "outputs": [],
   "source": [
    "selectSql =\"select DATEADD(dd, 0, DATEDIFF(dd, 0, [Time])) as Date ,DATEPART(dw, Time) as Weekday ,sum(Michael_Alarm)/count(distinct [PatientID]) as Amount FROM [Ichilov].[dbo].[SouraskyDB] group by DATEADD(dd, 0, DATEDIFF(dd, 0, [Time])) , DATEPART(dw, Time) order by Weekday,Date ;\"\n",
    "df1=pd.read_sql(selectSql, con)"
   ]
  },
  {
   "cell_type": "code",
   "execution_count": 14,
   "metadata": {},
   "outputs": [
    {
     "data": {
      "text/html": [
       "<iframe id=\"igraph\" scrolling=\"no\" style=\"border:none;\" seamless=\"seamless\" src=\"https://plot.ly/~galil/20.embed\" height=\"525px\" width=\"100%\"></iframe>"
      ],
      "text/plain": [
       "<plotly.tools.PlotlyDisplay object>"
      ]
     },
     "execution_count": 14,
     "metadata": {},
     "output_type": "execute_result"
    }
   ],
   "source": [
    "\n",
    "data = [{\n",
    "    'name': i ,\n",
    "    'y': df1.Amount[df1.Weekday==i], \n",
    "    'type':'box',\n",
    "    'marker':{'color': c[i]} \n",
    "    } for i in range(N)]\n",
    "\n",
    "\n",
    "layout = go.Layout(\n",
    "    title = \"Average of Michael Alarms per patient per Weekday\"\n",
    ")\n",
    "\n",
    "fig = go.Figure(data=data,layout=layout)\n",
    "py.iplot(fig, filename = \"Amount of Michael Alarms per patient per Weekday\")"
   ]
  },
  {
   "cell_type": "code",
   "execution_count": 15,
   "metadata": {
    "collapsed": true
   },
   "outputs": [],
   "source": [
    "selectSql =\"select DATEADD(dd, 0, DATEDIFF(dd, 0, [Time])) as Date ,DATEPART(dw, Time) as Weekday ,sum(Michael_Alarm) as Amount FROM [Ichilov].[dbo].[SouraskyDB] where [Michael_Type] like '%SVT & Hypotension 1%' group by DATEADD(dd, 0, DATEDIFF(dd, 0, [Time])) , DATEPART(dw, Time) order by Weekday,Date ;\"\n",
    "df2=pd.read_sql(selectSql, con)"
   ]
  },
  {
   "cell_type": "code",
   "execution_count": 16,
   "metadata": {},
   "outputs": [
    {
     "data": {
      "text/html": [
       "<iframe id=\"igraph\" scrolling=\"no\" style=\"border:none;\" seamless=\"seamless\" src=\"https://plot.ly/~galil/22.embed\" height=\"525px\" width=\"100%\"></iframe>"
      ],
      "text/plain": [
       "<plotly.tools.PlotlyDisplay object>"
      ]
     },
     "execution_count": 16,
     "metadata": {},
     "output_type": "execute_result"
    }
   ],
   "source": [
    "\n",
    "data = [{\n",
    "    'name': i ,\n",
    "    'y': df2.Amount[df2.Weekday==i], \n",
    "    'type':'box',\n",
    "    'marker':{'color': c[i]} \n",
    "    } for i in range(N)]\n",
    "\n",
    "\n",
    "layout = go.Layout(\n",
    "    title = \"Amount of SVT & Hypotension 1 Alarm per Weekday\"\n",
    ")\n",
    "\n",
    "fig = go.Figure(data=data,layout=layout)\n",
    "py.iplot(fig, filename = \"Amount of SVT & Hypotension 1 Alarm per Weekday\")"
   ]
  },
  {
   "cell_type": "code",
   "execution_count": 17,
   "metadata": {
    "collapsed": true
   },
   "outputs": [],
   "source": [
    "selectSql =\"select DATEADD(dd, 0, DATEDIFF(dd, 0, [Time])) as Date ,DATEPART(dw, Time) as Weekday ,sum(Michael_Alarm) as Amount FROM [Ichilov].[dbo].[SouraskyDB] where [Michael_Type] like '%SVT & Hypotension 2%' group by DATEADD(dd, 0, DATEDIFF(dd, 0, [Time])) , DATEPART(dw, Time) order by Weekday,Date ;\"\n",
    "df3=pd.read_sql(selectSql, con)"
   ]
  },
  {
   "cell_type": "code",
   "execution_count": 18,
   "metadata": {},
   "outputs": [
    {
     "data": {
      "text/html": [
       "<iframe id=\"igraph\" scrolling=\"no\" style=\"border:none;\" seamless=\"seamless\" src=\"https://plot.ly/~galil/24.embed\" height=\"525px\" width=\"100%\"></iframe>"
      ],
      "text/plain": [
       "<plotly.tools.PlotlyDisplay object>"
      ]
     },
     "execution_count": 18,
     "metadata": {},
     "output_type": "execute_result"
    }
   ],
   "source": [
    "\n",
    "data = [{\n",
    "    'name': i ,\n",
    "    'y': df3.Amount[df3.Weekday==i], \n",
    "    'type':'box',\n",
    "    'marker':{'color': c[i]} \n",
    "    } for i in range(N)]\n",
    "\n",
    "\n",
    "layout = go.Layout(\n",
    "    title = \"Amount of SVT & Hypotension 2 Alarm per Weekday\"\n",
    ")\n",
    "\n",
    "fig = go.Figure(data=data,layout=layout)\n",
    "py.iplot(fig, filename = \"Amount of SVT & Hypotension 2 Alarm per Weekday\")"
   ]
  },
  {
   "cell_type": "code",
   "execution_count": 19,
   "metadata": {
    "collapsed": true
   },
   "outputs": [],
   "source": [
    "selectSql =\"select DATEADD(dd, 0, DATEDIFF(dd, 0, [Time])) as Date ,DATEPART(dw, Time) as Weekday ,sum(Michael_Alarm) as Amount FROM [Ichilov].[dbo].[SouraskyDB] where [Michael_Type] like '%Tachycardia' or [Michael_Type] like '%Tachycardia,%' group by DATEADD(dd, 0, DATEDIFF(dd, 0, [Time])) , DATEPART(dw, Time) order by Weekday,Date ;\"\n",
    "df4=pd.read_sql(selectSql, con)"
   ]
  },
  {
   "cell_type": "code",
   "execution_count": 20,
   "metadata": {},
   "outputs": [
    {
     "data": {
      "text/html": [
       "<iframe id=\"igraph\" scrolling=\"no\" style=\"border:none;\" seamless=\"seamless\" src=\"https://plot.ly/~galil/22.embed\" height=\"525px\" width=\"100%\"></iframe>"
      ],
      "text/plain": [
       "<plotly.tools.PlotlyDisplay object>"
      ]
     },
     "execution_count": 20,
     "metadata": {},
     "output_type": "execute_result"
    }
   ],
   "source": [
    "\n",
    "data = [{\n",
    "    'name': i ,\n",
    "    'y': df4.Amount[df4.Weekday==i], \n",
    "    'type':'box',\n",
    "    'marker':{'color': c[i]} \n",
    "    } for i in range(N)]\n",
    "\n",
    "\n",
    "layout = go.Layout(\n",
    "    title = \"Amount of Tachycardia Alarm per Weekday\"\n",
    ")\n",
    "\n",
    "fig = go.Figure(data=data,layout=layout)\n",
    "py.iplot(fig, filename = \"Amount of Tachycardia Alarm per Weekday\")"
   ]
  },
  {
   "cell_type": "code",
   "execution_count": 21,
   "metadata": {
    "collapsed": true
   },
   "outputs": [],
   "source": [
    "selectSql =\"select DATEADD(dd, 0, DATEDIFF(dd, 0, [Time])) as Date ,DATEPART(dw, Time) as Weekday ,sum(Michael_Alarm) as Amount FROM [Ichilov].[dbo].[SouraskyDB] where Michael_Type like '%Tachycardia Hypotension%' group by DATEADD(dd, 0, DATEDIFF(dd, 0, [Time])) , DATEPART(dw, Time) order by Weekday,Date ;\"\n",
    "df5=pd.read_sql(selectSql, con)"
   ]
  },
  {
   "cell_type": "code",
   "execution_count": 22,
   "metadata": {},
   "outputs": [
    {
     "data": {
      "text/html": [
       "<iframe id=\"igraph\" scrolling=\"no\" style=\"border:none;\" seamless=\"seamless\" src=\"https://plot.ly/~galil/26.embed\" height=\"525px\" width=\"100%\"></iframe>"
      ],
      "text/plain": [
       "<plotly.tools.PlotlyDisplay object>"
      ]
     },
     "execution_count": 22,
     "metadata": {},
     "output_type": "execute_result"
    }
   ],
   "source": [
    "\n",
    "data = [{\n",
    "    'name': i ,\n",
    "    'y': df5.Amount[df5.Weekday==i], \n",
    "    'type':'box',\n",
    "    'marker':{'color': c[i]} \n",
    "    } for i in range(N)]\n",
    "\n",
    "\n",
    "layout = go.Layout(\n",
    "    title = \"Amount of Tachycardia Hypotension Alarm per Weekday\"\n",
    ")\n",
    "\n",
    "fig = go.Figure(data=data,layout=layout)\n",
    "py.iplot(fig, filename = \"Amount of Tachycardia Hypotension  Alarm per Weekday\")"
   ]
  },
  {
   "cell_type": "code",
   "execution_count": 23,
   "metadata": {
    "collapsed": true
   },
   "outputs": [],
   "source": [
    "selectSql =\"select DATEADD(dd, 0, DATEDIFF(dd, 0, [Time])) as Date ,DATEPART(dw, Time) as Weekday ,sum(Michael_Alarm) as Amount FROM [Ichilov].[dbo].[SouraskyDB] where [Michael_Type] like '%Bradycardia Hypotension%' group by DATEADD(dd, 0, DATEDIFF(dd, 0, [Time])) , DATEPART(dw, Time) order by Weekday,Date ;\"\n",
    "df6=pd.read_sql(selectSql, con)"
   ]
  },
  {
   "cell_type": "code",
   "execution_count": 24,
   "metadata": {},
   "outputs": [
    {
     "data": {
      "text/html": [
       "<iframe id=\"igraph\" scrolling=\"no\" style=\"border:none;\" seamless=\"seamless\" src=\"https://plot.ly/~galil/28.embed\" height=\"525px\" width=\"100%\"></iframe>"
      ],
      "text/plain": [
       "<plotly.tools.PlotlyDisplay object>"
      ]
     },
     "execution_count": 24,
     "metadata": {},
     "output_type": "execute_result"
    }
   ],
   "source": [
    "\n",
    "data = [{\n",
    "    'name': i ,\n",
    "    'y': df6.Amount[df6.Weekday==i], \n",
    "    'type':'box',\n",
    "    'marker':{'color': c[i]} \n",
    "    } for i in range(N)]\n",
    "\n",
    "\n",
    "layout = go.Layout(\n",
    "    title = \"Amount of Bradycardia Hypotension Alarm per Weekday\"\n",
    ")\n",
    "\n",
    "fig = go.Figure(data=data,layout=layout)\n",
    "py.iplot(fig, filename = \"Amount of Bradycardia Hypotension Alarm per Weekday\")"
   ]
  },
  {
   "cell_type": "code",
   "execution_count": 25,
   "metadata": {
    "collapsed": true
   },
   "outputs": [],
   "source": [
    "selectSql =\"select DATEADD(dd, 0, DATEDIFF(dd, 0, [Time])) as Date ,DATEPART(dw, Time) as Weekday ,sum(Michael_Alarm) as Amount FROM [Ichilov].[dbo].[SouraskyDB] where [Michael_Type] like '%Bradycardia 1%' group by DATEADD(dd, 0, DATEDIFF(dd, 0, [Time])) , DATEPART(dw, Time) order by Weekday,Date ;\"\n",
    "df7=pd.read_sql(selectSql, con)"
   ]
  },
  {
   "cell_type": "code",
   "execution_count": 26,
   "metadata": {},
   "outputs": [
    {
     "data": {
      "text/html": [
       "<iframe id=\"igraph\" scrolling=\"no\" style=\"border:none;\" seamless=\"seamless\" src=\"https://plot.ly/~galil/30.embed\" height=\"525px\" width=\"100%\"></iframe>"
      ],
      "text/plain": [
       "<plotly.tools.PlotlyDisplay object>"
      ]
     },
     "execution_count": 26,
     "metadata": {},
     "output_type": "execute_result"
    }
   ],
   "source": [
    "\n",
    "data = [{\n",
    "    'name': i ,\n",
    "    'y': df7.Amount[df7.Weekday==i], \n",
    "    'type':'box',\n",
    "    'marker':{'color': c[i]} \n",
    "    } for i in range(N)]\n",
    "\n",
    "\n",
    "layout = go.Layout(\n",
    "    title = \"Amount of Bradycardia 1 Alarm per Weekday\"\n",
    ")\n",
    "\n",
    "fig = go.Figure(data=data,layout=layout)\n",
    "py.iplot(fig, filename = \"Amount of Bradycardia 1 Alarm per Weekday\")"
   ]
  },
  {
   "cell_type": "code",
   "execution_count": 27,
   "metadata": {
    "collapsed": true
   },
   "outputs": [],
   "source": [
    "selectSql =\"select DATEADD(dd, 0, DATEDIFF(dd, 0, [Time])) as Date ,DATEPART(dw, Time) as Weekday ,sum(Michael_Alarm) as Amount FROM [Ichilov].[dbo].[SouraskyDB] where [Michael_Type] like '%Agitation 1%' group by DATEADD(dd, 0, DATEDIFF(dd, 0, [Time])) , DATEPART(dw, Time) order by Weekday,Date ;\"\n",
    "df8=pd.read_sql(selectSql, con)"
   ]
  },
  {
   "cell_type": "code",
   "execution_count": 28,
   "metadata": {},
   "outputs": [
    {
     "data": {
      "text/html": [
       "<iframe id=\"igraph\" scrolling=\"no\" style=\"border:none;\" seamless=\"seamless\" src=\"https://plot.ly/~galil/32.embed\" height=\"525px\" width=\"100%\"></iframe>"
      ],
      "text/plain": [
       "<plotly.tools.PlotlyDisplay object>"
      ]
     },
     "execution_count": 28,
     "metadata": {},
     "output_type": "execute_result"
    }
   ],
   "source": [
    "\n",
    "data = [{\n",
    "    'name': i ,\n",
    "    'y': df8.Amount[df8.Weekday==i], \n",
    "    'type':'box',\n",
    "    'marker':{'color': c[i]} \n",
    "    } for i in range(N)]\n",
    "\n",
    "\n",
    "layout = go.Layout(\n",
    "    title = \"Amount of Agitation 1 Alarm per Weekday\"\n",
    ")\n",
    "\n",
    "fig = go.Figure(data=data,layout=layout)\n",
    "py.iplot(fig, filename = \"Amount of Agitation 1 Alarm per Weekday\")"
   ]
  },
  {
   "cell_type": "code",
   "execution_count": 29,
   "metadata": {
    "collapsed": true
   },
   "outputs": [],
   "source": [
    "selectSql =\"select DATEADD(dd, 0, DATEDIFF(dd, 0, [Time])) as Date ,DATEPART(dw, Time) as Weekday ,sum(Michael_Alarm) as Amount FROM [Ichilov].[dbo].[SouraskyDB] where [Michael_Type] like '%Agitation 2%' group by DATEADD(dd, 0, DATEDIFF(dd, 0, [Time])) , DATEPART(dw, Time) order by Weekday,Date ;\"\n",
    "df9=pd.read_sql(selectSql, con)"
   ]
  },
  {
   "cell_type": "code",
   "execution_count": 30,
   "metadata": {},
   "outputs": [
    {
     "data": {
      "text/html": [
       "<iframe id=\"igraph\" scrolling=\"no\" style=\"border:none;\" seamless=\"seamless\" src=\"https://plot.ly/~galil/34.embed\" height=\"525px\" width=\"100%\"></iframe>"
      ],
      "text/plain": [
       "<plotly.tools.PlotlyDisplay object>"
      ]
     },
     "execution_count": 30,
     "metadata": {},
     "output_type": "execute_result"
    }
   ],
   "source": [
    "\n",
    "data = [{\n",
    "    'name': i ,\n",
    "    'y': df9.Amount[df9.Weekday==i], \n",
    "    'type':'box',\n",
    "    'marker':{'color': c[i]} \n",
    "    } for i in range(N)]\n",
    "\n",
    "\n",
    "layout = go.Layout(\n",
    "    title = \"Amount of Agitation 2 Alarm per Weekday\"\n",
    ")\n",
    "\n",
    "fig = go.Figure(data=data,layout=layout)\n",
    "py.iplot(fig, filename = \"Amount of Agitation 2 Alarm per Weekday\")"
   ]
  },
  {
   "cell_type": "code",
   "execution_count": 31,
   "metadata": {
    "collapsed": true
   },
   "outputs": [],
   "source": [
    "selectSql =\"select DATEADD(dd, 0, DATEDIFF(dd, 0, [Time])) as Date ,DATEPART(dw, Time) as Weekday ,sum(Michael_Alarm) as Amount FROM [Ichilov].[dbo].[SouraskyDB] where [Michael_Type] like '%Obstructive shock 1%' group by DATEADD(dd, 0, DATEDIFF(dd, 0, [Time])) , DATEPART(dw, Time) order by Weekday,Date ;\"\n",
    "df10=pd.read_sql(selectSql, con)"
   ]
  },
  {
   "cell_type": "code",
   "execution_count": 32,
   "metadata": {},
   "outputs": [
    {
     "data": {
      "text/html": [
       "<iframe id=\"igraph\" scrolling=\"no\" style=\"border:none;\" seamless=\"seamless\" src=\"https://plot.ly/~galil/36.embed\" height=\"525px\" width=\"100%\"></iframe>"
      ],
      "text/plain": [
       "<plotly.tools.PlotlyDisplay object>"
      ]
     },
     "execution_count": 32,
     "metadata": {},
     "output_type": "execute_result"
    }
   ],
   "source": [
    "\n",
    "data = [{\n",
    "    'name': i ,\n",
    "    'y': df10.Amount[df10.Weekday==i], \n",
    "    'type':'box',\n",
    "    'marker':{'color': c[i]} \n",
    "    } for i in range(N)]\n",
    "\n",
    "\n",
    "layout = go.Layout(\n",
    "    title = \"Amount of Obstructive shock 1 Alarm per Weekday\"\n",
    ")\n",
    "\n",
    "fig = go.Figure(data=data,layout=layout)\n",
    "py.iplot(fig, filename = \"Amount of Obstructive shock 1 Alarm per Weekday\")"
   ]
  },
  {
   "cell_type": "code",
   "execution_count": 33,
   "metadata": {
    "collapsed": true
   },
   "outputs": [],
   "source": [
    "selectSql =\"select DATEADD(dd, 0, DATEDIFF(dd, 0, [Time])) as Date ,DATEPART(dw, Time) as Weekday ,sum(Michael_Alarm) as Amount FROM [Ichilov].[dbo].[SouraskyDB] where [Michael_Type] like '%Obstructive shock 2%' group by DATEADD(dd, 0, DATEDIFF(dd, 0, [Time])) , DATEPART(dw, Time) order by Weekday,Date ;\"\n",
    "df11=pd.read_sql(selectSql, con)"
   ]
  },
  {
   "cell_type": "code",
   "execution_count": 34,
   "metadata": {},
   "outputs": [
    {
     "data": {
      "text/html": [
       "<iframe id=\"igraph\" scrolling=\"no\" style=\"border:none;\" seamless=\"seamless\" src=\"https://plot.ly/~galil/38.embed\" height=\"525px\" width=\"100%\"></iframe>"
      ],
      "text/plain": [
       "<plotly.tools.PlotlyDisplay object>"
      ]
     },
     "execution_count": 34,
     "metadata": {},
     "output_type": "execute_result"
    }
   ],
   "source": [
    "\n",
    "data = [{\n",
    "    'name': i ,\n",
    "    'y': df11.Amount[df11.Weekday==i], \n",
    "    'type':'box',\n",
    "    'marker':{'color': c[i]} \n",
    "    } for i in range(N)]\n",
    "\n",
    "\n",
    "layout = go.Layout(\n",
    "    title = \"Amount of Obstructive shock 2 Alarm per Weekday\"\n",
    ")\n",
    "\n",
    "fig = go.Figure(data=data,layout=layout)\n",
    "py.iplot(fig, filename = \"Amount of Obstructive shock 2 Alarm per Weekday\")"
   ]
  },
  {
   "cell_type": "code",
   "execution_count": 35,
   "metadata": {
    "collapsed": true
   },
   "outputs": [],
   "source": [
    "selectSql =\"select DATEADD(dd, 0, DATEDIFF(dd, 0, [Time])) as Date ,DATEPART(dw, Time) as Weekday ,sum(Michael_Alarm) as Amount FROM [Ichilov].[dbo].[SouraskyDB] where [Michael_Type] like '%LV shock 1%' group by DATEADD(dd, 0, DATEDIFF(dd, 0, [Time])) , DATEPART(dw, Time) order by Weekday,Date ;\"\n",
    "df12=pd.read_sql(selectSql, con)"
   ]
  },
  {
   "cell_type": "code",
   "execution_count": 36,
   "metadata": {},
   "outputs": [
    {
     "data": {
      "text/html": [
       "<iframe id=\"igraph\" scrolling=\"no\" style=\"border:none;\" seamless=\"seamless\" src=\"https://plot.ly/~galil/40.embed\" height=\"525px\" width=\"100%\"></iframe>"
      ],
      "text/plain": [
       "<plotly.tools.PlotlyDisplay object>"
      ]
     },
     "execution_count": 36,
     "metadata": {},
     "output_type": "execute_result"
    }
   ],
   "source": [
    "\n",
    "data = [{\n",
    "    'name': i ,\n",
    "    'y': df12.Amount[df12.Weekday==i], \n",
    "    'type':'box',\n",
    "    'marker':{'color': c[i]} \n",
    "    } for i in range(N)]\n",
    "\n",
    "\n",
    "layout = go.Layout(\n",
    "    title = \"Amount of LV shock 1 Alarm per Weekday\"\n",
    ")\n",
    "\n",
    "fig = go.Figure(data=data,layout=layout)\n",
    "py.iplot(fig, filename = \"Amount of LV shock 1 Alarm per Weekday\")"
   ]
  },
  {
   "cell_type": "code",
   "execution_count": 37,
   "metadata": {
    "collapsed": true
   },
   "outputs": [],
   "source": [
    "selectSql =\"select DATEADD(dd, 0, DATEDIFF(dd, 0, [Time])) as Date ,DATEPART(dw, Time) as Weekday ,sum(Michael_Alarm) as Amount FROM [Ichilov].[dbo].[SouraskyDB] where [Michael_Type] like '%LV shock 2%' group by DATEADD(dd, 0, DATEDIFF(dd, 0, [Time])) , DATEPART(dw, Time) order by Weekday,Date ;\"\n",
    "df13=pd.read_sql(selectSql, con)"
   ]
  },
  {
   "cell_type": "code",
   "execution_count": 38,
   "metadata": {},
   "outputs": [
    {
     "data": {
      "text/html": [
       "<iframe id=\"igraph\" scrolling=\"no\" style=\"border:none;\" seamless=\"seamless\" src=\"https://plot.ly/~galil/42.embed\" height=\"525px\" width=\"100%\"></iframe>"
      ],
      "text/plain": [
       "<plotly.tools.PlotlyDisplay object>"
      ]
     },
     "execution_count": 38,
     "metadata": {},
     "output_type": "execute_result"
    }
   ],
   "source": [
    "\n",
    "data = [{\n",
    "    'name': i ,\n",
    "    'y': df13.Amount[df13.Weekday==i], \n",
    "    'type':'box',\n",
    "    'marker':{'color': c[i]} \n",
    "    } for i in range(N)]\n",
    "\n",
    "\n",
    "layout = go.Layout(\n",
    "    title = \"Amount of LV shock 2 Alarm per Weekday\"\n",
    ")\n",
    "\n",
    "fig = go.Figure(data=data,layout=layout)\n",
    "py.iplot(fig, filename = \"Amount of LV shock 2 Alarm per Weekday\")"
   ]
  },
  {
   "cell_type": "code",
   "execution_count": 39,
   "metadata": {
    "collapsed": true
   },
   "outputs": [],
   "source": [
    "selectSql =\"select DATEADD(dd, 0, DATEDIFF(dd, 0, [Time])) as Date ,DATEPART(dw, Time) as Weekday ,sum(Michael_Alarm) as Amount FROM [Ichilov].[dbo].[SouraskyDB] where [Michael_Type] like '%Hypovolemia 1%' group by DATEADD(dd, 0, DATEDIFF(dd, 0, [Time])) , DATEPART(dw, Time) order by Weekday,Date ;\"\n",
    "df14=pd.read_sql(selectSql, con)"
   ]
  },
  {
   "cell_type": "code",
   "execution_count": 40,
   "metadata": {},
   "outputs": [
    {
     "data": {
      "text/html": [
       "<iframe id=\"igraph\" scrolling=\"no\" style=\"border:none;\" seamless=\"seamless\" src=\"https://plot.ly/~galil/44.embed\" height=\"525px\" width=\"100%\"></iframe>"
      ],
      "text/plain": [
       "<plotly.tools.PlotlyDisplay object>"
      ]
     },
     "execution_count": 40,
     "metadata": {},
     "output_type": "execute_result"
    }
   ],
   "source": [
    "\n",
    "data = [{\n",
    "    'name': i ,\n",
    "    'y': df14.Amount[df14.Weekday==i], \n",
    "    'type':'box',\n",
    "    'marker':{'color': c[i]} \n",
    "    } for i in range(N)]\n",
    "\n",
    "\n",
    "layout = go.Layout(\n",
    "    title = \"Amount of Hypovolemia 1 Alarm per Weekday\"\n",
    ")\n",
    "\n",
    "fig = go.Figure(data=data,layout=layout)\n",
    "py.iplot(fig, filename = \"Amount of Hypovolemia 1 Alarm per Weekday\")"
   ]
  },
  {
   "cell_type": "code",
   "execution_count": 41,
   "metadata": {
    "collapsed": true
   },
   "outputs": [],
   "source": [
    "selectSql =\"select DATEADD(dd, 0, DATEDIFF(dd, 0, [Time])) as Date ,DATEPART(dw, Time) as Weekday ,sum(Michael_Alarm) as Amount FROM [Ichilov].[dbo].[SouraskyDB] where [Michael_Type] like '%Hypovolemia 3%' group by DATEADD(dd, 0, DATEDIFF(dd, 0, [Time])) , DATEPART(dw, Time) order by Weekday,Date ;\"\n",
    "df16=pd.read_sql(selectSql, con)"
   ]
  },
  {
   "cell_type": "code",
   "execution_count": 42,
   "metadata": {},
   "outputs": [
    {
     "data": {
      "text/html": [
       "<iframe id=\"igraph\" scrolling=\"no\" style=\"border:none;\" seamless=\"seamless\" src=\"https://plot.ly/~galil/46.embed\" height=\"525px\" width=\"100%\"></iframe>"
      ],
      "text/plain": [
       "<plotly.tools.PlotlyDisplay object>"
      ]
     },
     "execution_count": 42,
     "metadata": {},
     "output_type": "execute_result"
    }
   ],
   "source": [
    "\n",
    "data = [{\n",
    "    'name': i ,\n",
    "    'y': df16.Amount[df16.Weekday==i], \n",
    "    'type':'box',\n",
    "    'marker':{'color': c[i]} \n",
    "    } for i in range(N)]\n",
    "\n",
    "\n",
    "layout = go.Layout(\n",
    "    title = \"Amount of Hypovolemia 3 Alarm per Weekday\"\n",
    ")\n",
    "\n",
    "fig = go.Figure(data=data,layout=layout)\n",
    "py.iplot(fig, filename = \"Amount of Hypovolemia 3 Alarm per Weekday\")"
   ]
  },
  {
   "cell_type": "code",
   "execution_count": 43,
   "metadata": {
    "collapsed": true
   },
   "outputs": [],
   "source": [
    "selectSql =\"select DATEADD(dd, 0, DATEDIFF(dd, 0, [Time])) as Date ,DATEPART(dw, Time) as Weekday ,sum(Michael_Alarm) as Amount FROM [Ichilov].[dbo].[SouraskyDB] where [Michael_Type] like '%Hypovolemia 4%' group by DATEADD(dd, 0, DATEDIFF(dd, 0, [Time])) , DATEPART(dw, Time) order by Weekday,Date ;\"\n",
    "df17=pd.read_sql(selectSql, con)"
   ]
  },
  {
   "cell_type": "code",
   "execution_count": 44,
   "metadata": {},
   "outputs": [
    {
     "data": {
      "text/html": [
       "<iframe id=\"igraph\" scrolling=\"no\" style=\"border:none;\" seamless=\"seamless\" src=\"https://plot.ly/~galil/48.embed\" height=\"525px\" width=\"100%\"></iframe>"
      ],
      "text/plain": [
       "<plotly.tools.PlotlyDisplay object>"
      ]
     },
     "execution_count": 44,
     "metadata": {},
     "output_type": "execute_result"
    }
   ],
   "source": [
    "\n",
    "data = [{\n",
    "    'name': i ,\n",
    "    'y': df17.Amount[df17.Weekday==i], \n",
    "    'type':'box',\n",
    "    'marker':{'color': c[i]} \n",
    "    } for i in range(N)]\n",
    "\n",
    "\n",
    "layout = go.Layout(\n",
    "    title = \"Amount of Hypovolemia 4 Alarm per Weekday\"\n",
    ")\n",
    "\n",
    "fig = go.Figure(data=data,layout=layout)\n",
    "py.iplot(fig, filename = \"Amount of Hypovolemia 4 Alarm per Weekday\")"
   ]
  },
  {
   "cell_type": "code",
   "execution_count": null,
   "metadata": {
    "collapsed": true
   },
   "outputs": [],
   "source": []
  }
 ],
 "metadata": {
  "kernelspec": {
   "display_name": "Python 3",
   "language": "python",
   "name": "python3"
  },
  "language_info": {
   "codemirror_mode": {
    "name": "ipython",
    "version": 3
   },
   "file_extension": ".py",
   "mimetype": "text/x-python",
   "name": "python",
   "nbconvert_exporter": "python",
   "pygments_lexer": "ipython3",
   "version": "3.6.1"
  }
 },
 "nbformat": 4,
 "nbformat_minor": 2
}
