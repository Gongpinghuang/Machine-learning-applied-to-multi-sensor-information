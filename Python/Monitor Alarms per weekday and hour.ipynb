{
 "cells": [
  {
   "cell_type": "code",
   "execution_count": 29,
   "metadata": {},
   "outputs": [
    {
     "name": "stdout",
     "output_type": "stream",
     "text": [
      "Requirement already satisfied: matplotlib in c:\\users\\temp.bgu-users\\appdata\\local\\continuum\\anaconda3\\lib\\site-packages\n",
      "Requirement already satisfied: numpy>=1.7.1 in c:\\users\\temp.bgu-users\\appdata\\local\\continuum\\anaconda3\\lib\\site-packages (from matplotlib)\n",
      "Requirement already satisfied: six>=1.10 in c:\\users\\temp.bgu-users\\appdata\\local\\continuum\\anaconda3\\lib\\site-packages (from matplotlib)\n",
      "Requirement already satisfied: python-dateutil in c:\\users\\temp.bgu-users\\appdata\\local\\continuum\\anaconda3\\lib\\site-packages (from matplotlib)\n",
      "Requirement already satisfied: pytz in c:\\users\\temp.bgu-users\\appdata\\local\\continuum\\anaconda3\\lib\\site-packages (from matplotlib)\n",
      "Requirement already satisfied: cycler>=0.10 in c:\\users\\temp.bgu-users\\appdata\\local\\continuum\\anaconda3\\lib\\site-packages (from matplotlib)\n",
      "Requirement already satisfied: pyparsing!=2.0.4,!=2.1.2,!=2.1.6,>=1.5.6 in c:\\users\\temp.bgu-users\\appdata\\local\\continuum\\anaconda3\\lib\\site-packages (from matplotlib)\n"
     ]
    }
   ],
   "source": [
    "!pip install matplotlib"
   ]
  },
  {
   "cell_type": "code",
   "execution_count": 43,
   "metadata": {
    "collapsed": true
   },
   "outputs": [],
   "source": [
    "import pyodbc\n",
    "import pandas as pd\n",
    "import math\n",
    "import numpy as np\n",
    "\n",
    "import plotly \n",
    "plotly.tools.set_credentials_file(username='galhever', api_key='jM7CTJEIUeq1HUguzee3')"
   ]
  },
  {
   "cell_type": "code",
   "execution_count": 23,
   "metadata": {
    "collapsed": true
   },
   "outputs": [],
   "source": [
    "con = pyodbc.connect('DRIVER={SQL Server};SERVER=localhost;DATABASE=Ichilov')\n",
    "selectCur = con.cursor()\n"
   ]
  },
  {
   "cell_type": "code",
   "execution_count": 24,
   "metadata": {
    "collapsed": true
   },
   "outputs": [],
   "source": [
    "import plotly.plotly as py\n",
    "from plotly.graph_objs import *"
   ]
  },
  {
   "cell_type": "code",
   "execution_count": 25,
   "metadata": {
    "collapsed": true
   },
   "outputs": [],
   "source": [
    "selectSql =\"select DATEADD(dd, 0, DATEDIFF(dd, 0, [Time])) as Date ,DATEPART(dw, Time) as Week,DATENAME(dw, Time),DATEPART(hh, Time), concat(DATENAME(dw, Time),DATEPART(hh, Time)) as Weekday_Hour , sum(Alarm) as Amount FROM [Ichilov].[dbo].[SouraskyDB] where Alarm = 1 group by DATEADD(dd, 0, DATEDIFF(dd, 0, [Time])) ,DATEPART(dw, Time),DATENAME(dw, Time),DATEPART(hh, Time), concat(DATENAME(dw, Time),DATEPART(hh, Time)) order by  DATEPART(dw, Time),DATEPART(hh, Time);\"\n",
    "df=pd.read_sql(selectSql, con)"
   ]
  },
  {
   "cell_type": "code",
   "execution_count": 32,
   "metadata": {},
   "outputs": [
    {
     "name": "stderr",
     "output_type": "stream",
     "text": [
      "C:\\Users\\TEMP.BGU-USERS\\AppData\\Local\\Continuum\\Anaconda3\\lib\\site-packages\\plotly\\plotly\\plotly.py:218: UserWarning:\n",
      "\n",
      "Woah there! Look at all those points! Due to browser limitations, the Plotly SVG drawing functions have a hard time graphing more than 500k data points for line charts, or 40k points for other types of charts. Here are some suggestions:\n",
      "(1) Use the `plotly.graph_objs.Scattergl` trace object to generate a WebGl graph.\n",
      "(2) Trying using the image API to return an image instead of a graph URL\n",
      "(3) Use matplotlib\n",
      "(4) See if you can create your visualization with fewer data points\n",
      "\n",
      "If the visualization you're using aggregates points (e.g., box plot, histogram, etc.) you can disregard this warning.\n",
      "\n"
     ]
    },
    {
     "data": {
      "text/html": [
       "<iframe id=\"igraph\" scrolling=\"no\" style=\"border:none;\" seamless=\"seamless\" src=\"https://plot.ly/~galhev/235.embed\" height=\"525px\" width=\"100%\"></iframe>"
      ],
      "text/plain": [
       "<plotly.tools.PlotlyDisplay object>"
      ]
     },
     "execution_count": 32,
     "metadata": {},
     "output_type": "execute_result"
    }
   ],
   "source": [
    "import plotly.plotly as py\n",
    "import plotly.graph_objs as go\n",
    "\n",
    "N=168\n",
    "c = ['hsl('+str(h)+',50%'+',50%)' for h in linspace(0, 360, N)]\n",
    "\n",
    "data = [\n",
    "    {\n",
    "        \n",
    "        'x': df.Weekday_Hour,\n",
    "        'y': df.Amount, \n",
    "        'marker': {'color': c},\n",
    "        \"type\": \"box\",\n",
    "    },\n",
    "]\n",
    "\n",
    "layout = go.Layout(\n",
    "    title = \"Amount of Monitor Alarms per Hour&Weekday\"\n",
    ")\n",
    "\n",
    "fig = go.Figure(data=data, layout=layout)\n",
    "\n",
    "py.iplot(fig)"
   ]
  },
  {
   "cell_type": "code",
   "execution_count": 33,
   "metadata": {
    "collapsed": true
   },
   "outputs": [],
   "source": [
    "selectSql =\"select DATEADD(dd, 0, DATEDIFF(dd, 0, [Time])) as Date ,DATEPART(dw, Time) as Week,DATENAME(dw, Time),DATEPART(hh, Time), concat(DATENAME(dw, Time),DATEPART(hh, Time)) as Weekday_Hour , sum(Alarm)/count(distinct [PatientID]) as Amount FROM [Ichilov].[dbo].[SouraskyDB] group by DATEADD(dd, 0, DATEDIFF(dd, 0, [Time])) ,DATEPART(dw, Time),DATENAME(dw, Time),DATEPART(hh, Time), concat(DATENAME(dw, Time),DATEPART(hh, Time)) order by  DATEPART(dw, Time),DATEPART(hh, Time);\"\n",
    "df2=pd.read_sql(selectSql, con)"
   ]
  },
  {
   "cell_type": "code",
   "execution_count": 36,
   "metadata": {},
   "outputs": [
    {
     "name": "stderr",
     "output_type": "stream",
     "text": [
      "C:\\Users\\TEMP.BGU-USERS\\AppData\\Local\\Continuum\\Anaconda3\\lib\\site-packages\\plotly\\plotly\\plotly.py:218: UserWarning:\n",
      "\n",
      "Woah there! Look at all those points! Due to browser limitations, the Plotly SVG drawing functions have a hard time graphing more than 500k data points for line charts, or 40k points for other types of charts. Here are some suggestions:\n",
      "(1) Use the `plotly.graph_objs.Scattergl` trace object to generate a WebGl graph.\n",
      "(2) Trying using the image API to return an image instead of a graph URL\n",
      "(3) Use matplotlib\n",
      "(4) See if you can create your visualization with fewer data points\n",
      "\n",
      "If the visualization you're using aggregates points (e.g., box plot, histogram, etc.) you can disregard this warning.\n",
      "\n"
     ]
    },
    {
     "data": {
      "text/html": [
       "<iframe id=\"igraph\" scrolling=\"no\" style=\"border:none;\" seamless=\"seamless\" src=\"https://plot.ly/~galhev/237.embed\" height=\"525px\" width=\"100%\"></iframe>"
      ],
      "text/plain": [
       "<plotly.tools.PlotlyDisplay object>"
      ]
     },
     "execution_count": 36,
     "metadata": {},
     "output_type": "execute_result"
    }
   ],
   "source": [
    "import plotly.plotly as py\n",
    "import plotly.graph_objs as go\n",
    "\n",
    "data = [\n",
    "    {\n",
    "        \n",
    "        'x': df2.Weekday_Hour,\n",
    "        'y': df2.Amount, \n",
    "       \n",
    "        \"type\": \"box\",\n",
    "    },\n",
    "]\n",
    "\n",
    "layout = go.Layout(\n",
    "    title = \"Average of Monitor Alarms per Hour&Weekday\"\n",
    ")\n",
    "\n",
    "fig = go.Figure(data=data, layout=layout)\n",
    "\n",
    "py.iplot(fig)"
   ]
  },
  {
   "cell_type": "code",
   "execution_count": 37,
   "metadata": {
    "collapsed": true
   },
   "outputs": [],
   "source": [
    "selectSql =\"select DATEADD(dd, 0, DATEDIFF(dd, 0, [Time])) as Date ,DATEPART(dw, Time) as Week,DATENAME(dw, Time),DATEPART(hh, Time), concat(DATENAME(dw, Time),DATEPART(hh, Time)) as Weekday_Hour , sum(case when ([HR]>120 or [HR]<60) then 1 else 0 end)/count(distinct [PatientID]) as Amount FROM [Ichilov].[dbo].[SouraskyDB] group by DATEADD(dd, 0, DATEDIFF(dd, 0, [Time])) ,DATEPART(dw, Time),DATENAME(dw, Time),DATEPART(hh, Time), concat(DATENAME(dw, Time),DATEPART(hh, Time)) order by  DATEPART(dw, Time),DATEPART(hh, Time);\"\n",
    "df3=pd.read_sql(selectSql, con)"
   ]
  },
  {
   "cell_type": "code",
   "execution_count": 38,
   "metadata": {},
   "outputs": [
    {
     "name": "stderr",
     "output_type": "stream",
     "text": [
      "C:\\Users\\TEMP.BGU-USERS\\AppData\\Local\\Continuum\\Anaconda3\\lib\\site-packages\\plotly\\plotly\\plotly.py:218: UserWarning:\n",
      "\n",
      "Woah there! Look at all those points! Due to browser limitations, the Plotly SVG drawing functions have a hard time graphing more than 500k data points for line charts, or 40k points for other types of charts. Here are some suggestions:\n",
      "(1) Use the `plotly.graph_objs.Scattergl` trace object to generate a WebGl graph.\n",
      "(2) Trying using the image API to return an image instead of a graph URL\n",
      "(3) Use matplotlib\n",
      "(4) See if you can create your visualization with fewer data points\n",
      "\n",
      "If the visualization you're using aggregates points (e.g., box plot, histogram, etc.) you can disregard this warning.\n",
      "\n"
     ]
    },
    {
     "data": {
      "text/html": [
       "<iframe id=\"igraph\" scrolling=\"no\" style=\"border:none;\" seamless=\"seamless\" src=\"https://plot.ly/~galhev/239.embed\" height=\"525px\" width=\"100%\"></iframe>"
      ],
      "text/plain": [
       "<plotly.tools.PlotlyDisplay object>"
      ]
     },
     "execution_count": 38,
     "metadata": {},
     "output_type": "execute_result"
    }
   ],
   "source": [
    "import plotly.plotly as py\n",
    "import plotly.graph_objs as go\n",
    "\n",
    "data = [\n",
    "    {\n",
    "        \n",
    "        'x': df3.Weekday_Hour,\n",
    "        'y': df3.Amount, \n",
    "       \n",
    "        \"type\": \"box\",\n",
    "    },\n",
    "]\n",
    "\n",
    "layout = go.Layout(\n",
    "    title = \"Average of Monitor HR Alarms per Hour&Weekday\"\n",
    ")\n",
    "\n",
    "fig = go.Figure(data=data, layout=layout)\n",
    "\n",
    "py.iplot(fig)"
   ]
  },
  {
   "cell_type": "code",
   "execution_count": 39,
   "metadata": {
    "collapsed": true
   },
   "outputs": [],
   "source": [
    "selectSql =\"select DATEADD(dd, 0, DATEDIFF(dd, 0, [Time])) as Date ,DATEPART(dw, Time) as Week,DATENAME(dw, Time),DATEPART(hh, Time), concat(DATENAME(dw, Time),DATEPART(hh, Time)) as Weekday_Hour , sum(case when ([ArtBPS]>180 or [ArtBPS]<90) then 1 else 0 end)/count(distinct [PatientID]) as Amount FROM [Ichilov].[dbo].[SouraskyDB] group by DATEADD(dd, 0, DATEDIFF(dd, 0, [Time])) ,DATEPART(dw, Time),DATENAME(dw, Time),DATEPART(hh, Time), concat(DATENAME(dw, Time),DATEPART(hh, Time)) order by  DATEPART(dw, Time),DATEPART(hh, Time);\"\n",
    "df4=pd.read_sql(selectSql, con)"
   ]
  },
  {
   "cell_type": "code",
   "execution_count": 40,
   "metadata": {},
   "outputs": [
    {
     "name": "stderr",
     "output_type": "stream",
     "text": [
      "C:\\Users\\TEMP.BGU-USERS\\AppData\\Local\\Continuum\\Anaconda3\\lib\\site-packages\\plotly\\plotly\\plotly.py:218: UserWarning:\n",
      "\n",
      "Woah there! Look at all those points! Due to browser limitations, the Plotly SVG drawing functions have a hard time graphing more than 500k data points for line charts, or 40k points for other types of charts. Here are some suggestions:\n",
      "(1) Use the `plotly.graph_objs.Scattergl` trace object to generate a WebGl graph.\n",
      "(2) Trying using the image API to return an image instead of a graph URL\n",
      "(3) Use matplotlib\n",
      "(4) See if you can create your visualization with fewer data points\n",
      "\n",
      "If the visualization you're using aggregates points (e.g., box plot, histogram, etc.) you can disregard this warning.\n",
      "\n"
     ]
    },
    {
     "data": {
      "text/html": [
       "<iframe id=\"igraph\" scrolling=\"no\" style=\"border:none;\" seamless=\"seamless\" src=\"https://plot.ly/~galhev/241.embed\" height=\"525px\" width=\"100%\"></iframe>"
      ],
      "text/plain": [
       "<plotly.tools.PlotlyDisplay object>"
      ]
     },
     "execution_count": 40,
     "metadata": {},
     "output_type": "execute_result"
    }
   ],
   "source": [
    "import plotly.plotly as py\n",
    "import plotly.graph_objs as go\n",
    "\n",
    "data = [\n",
    "    {\n",
    "        \n",
    "        'x': df4.Weekday_Hour,\n",
    "        'y': df4.Amount, \n",
    "       \n",
    "        \"type\": \"box\",\n",
    "    },\n",
    "]\n",
    "\n",
    "layout = go.Layout(\n",
    "    title = \"Average of Monitor ArtBPS Alarms per Hour&Weekday\"\n",
    ")\n",
    "\n",
    "fig = go.Figure(data=data, layout=layout)\n",
    "\n",
    "py.iplot(fig)"
   ]
  },
  {
   "cell_type": "code",
   "execution_count": 41,
   "metadata": {
    "collapsed": true
   },
   "outputs": [],
   "source": [
    "selectSql =\"select DATEADD(dd, 0, DATEDIFF(dd, 0, [Time])) as Date ,DATEPART(dw, Time) as Week,DATENAME(dw, Time),DATEPART(hh, Time), concat(DATENAME(dw, Time),DATEPART(hh, Time)) as Weekday_Hour , sum(case when ([NiBPS]>180 or [NiBPS]<90) then 1 else 0 end)/count(distinct [PatientID]) as Amount FROM [Ichilov].[dbo].[SouraskyDB] group by DATEADD(dd, 0, DATEDIFF(dd, 0, [Time])) ,DATEPART(dw, Time),DATENAME(dw, Time),DATEPART(hh, Time), concat(DATENAME(dw, Time),DATEPART(hh, Time)) order by  DATEPART(dw, Time),DATEPART(hh, Time);\"\n",
    "df5=pd.read_sql(selectSql, con)"
   ]
  },
  {
   "cell_type": "code",
   "execution_count": 44,
   "metadata": {},
   "outputs": [
    {
     "name": "stderr",
     "output_type": "stream",
     "text": [
      "C:\\Users\\TEMP.BGU-USERS\\AppData\\Local\\Continuum\\Anaconda3\\lib\\site-packages\\plotly\\plotly\\plotly.py:218: UserWarning:\n",
      "\n",
      "Woah there! Look at all those points! Due to browser limitations, the Plotly SVG drawing functions have a hard time graphing more than 500k data points for line charts, or 40k points for other types of charts. Here are some suggestions:\n",
      "(1) Use the `plotly.graph_objs.Scattergl` trace object to generate a WebGl graph.\n",
      "(2) Trying using the image API to return an image instead of a graph URL\n",
      "(3) Use matplotlib\n",
      "(4) See if you can create your visualization with fewer data points\n",
      "\n",
      "If the visualization you're using aggregates points (e.g., box plot, histogram, etc.) you can disregard this warning.\n",
      "\n"
     ]
    },
    {
     "data": {
      "text/html": [
       "<iframe id=\"igraph\" scrolling=\"no\" style=\"border:none;\" seamless=\"seamless\" src=\"https://plot.ly/~galhever/24.embed\" height=\"525px\" width=\"100%\"></iframe>"
      ],
      "text/plain": [
       "<plotly.tools.PlotlyDisplay object>"
      ]
     },
     "execution_count": 44,
     "metadata": {},
     "output_type": "execute_result"
    }
   ],
   "source": [
    "import plotly.plotly as py\n",
    "import plotly.graph_objs as go\n",
    "\n",
    "data = [\n",
    "    {\n",
    "        \n",
    "        'x': df5.Weekday_Hour,\n",
    "        'y': df5.Amount, \n",
    "       \n",
    "        \"type\": \"box\",\n",
    "    },\n",
    "]\n",
    "\n",
    "layout = go.Layout(\n",
    "    title = \"Average of Monitor NiBPS Alarms per Hour&Weekday\"\n",
    ")\n",
    "\n",
    "fig = go.Figure(data=data, layout=layout)\n",
    "\n",
    "py.iplot(fig)"
   ]
  },
  {
   "cell_type": "code",
   "execution_count": 46,
   "metadata": {},
   "outputs": [],
   "source": [
    "selectSql =\"select DATEADD(dd, 0, DATEDIFF(dd, 0, [Time])) as Date ,DATEPART(dw, Time) as Week,DATENAME(dw, Time),DATEPART(hh, Time), concat(DATENAME(dw, Time),DATEPART(hh, Time)) as Weekday_Hour , sum(case when ([ArtBPM]>125 or [ArtBPM]<65) then 1 else 0 end)/count(distinct [PatientID]) as Amount FROM [Ichilov].[dbo].[SouraskyDB] group by DATEADD(dd, 0, DATEDIFF(dd, 0, [Time])) ,DATEPART(dw, Time),DATENAME(dw, Time),DATEPART(hh, Time), concat(DATENAME(dw, Time),DATEPART(hh, Time)) order by  DATEPART(dw, Time),DATEPART(hh, Time);\"\n",
    "df6=pd.read_sql(selectSql, con)"
   ]
  },
  {
   "cell_type": "code",
   "execution_count": 47,
   "metadata": {},
   "outputs": [
    {
     "name": "stderr",
     "output_type": "stream",
     "text": [
      "C:\\Users\\TEMP.BGU-USERS\\AppData\\Local\\Continuum\\Anaconda3\\lib\\site-packages\\plotly\\plotly\\plotly.py:218: UserWarning:\n",
      "\n",
      "Woah there! Look at all those points! Due to browser limitations, the Plotly SVG drawing functions have a hard time graphing more than 500k data points for line charts, or 40k points for other types of charts. Here are some suggestions:\n",
      "(1) Use the `plotly.graph_objs.Scattergl` trace object to generate a WebGl graph.\n",
      "(2) Trying using the image API to return an image instead of a graph URL\n",
      "(3) Use matplotlib\n",
      "(4) See if you can create your visualization with fewer data points\n",
      "\n",
      "If the visualization you're using aggregates points (e.g., box plot, histogram, etc.) you can disregard this warning.\n",
      "\n"
     ]
    },
    {
     "data": {
      "text/html": [
       "<iframe id=\"igraph\" scrolling=\"no\" style=\"border:none;\" seamless=\"seamless\" src=\"https://plot.ly/~galhever/26.embed\" height=\"525px\" width=\"100%\"></iframe>"
      ],
      "text/plain": [
       "<plotly.tools.PlotlyDisplay object>"
      ]
     },
     "execution_count": 47,
     "metadata": {},
     "output_type": "execute_result"
    }
   ],
   "source": [
    "import plotly.plotly as py\n",
    "import plotly.graph_objs as go\n",
    "\n",
    "data = [\n",
    "    {\n",
    "        \n",
    "        'x': df6.Weekday_Hour,\n",
    "        'y': df6.Amount, \n",
    "       \n",
    "        \"type\": \"box\",\n",
    "    },\n",
    "]\n",
    "\n",
    "layout = go.Layout(\n",
    "    title = \"Average of Monitor ArtBPM Alarms per Hour&Weekday\"\n",
    ")\n",
    "\n",
    "fig = go.Figure(data=data, layout=layout)\n",
    "\n",
    "py.iplot(fig)"
   ]
  },
  {
   "cell_type": "code",
   "execution_count": 48,
   "metadata": {
    "collapsed": true
   },
   "outputs": [],
   "source": [
    "selectSql =\"select DATEADD(dd, 0, DATEDIFF(dd, 0, [Time])) as Date ,DATEPART(dw, Time) as Week,DATENAME(dw, Time),DATEPART(hh, Time), concat(DATENAME(dw, Time),DATEPART(hh, Time)) as Weekday_Hour , sum(case when ([Spo2]>100 or [Spo2]<90) then 1 else 0 end)/count(distinct [PatientID])as Amount FROM [Ichilov].[dbo].[SouraskyDB] group by DATEADD(dd, 0, DATEDIFF(dd, 0, [Time])) ,DATEPART(dw, Time),DATENAME(dw, Time),DATEPART(hh, Time), concat(DATENAME(dw, Time),DATEPART(hh, Time)) order by  DATEPART(dw, Time),DATEPART(hh, Time);\"\n",
    "df7=pd.read_sql(selectSql, con)"
   ]
  },
  {
   "cell_type": "code",
   "execution_count": 49,
   "metadata": {},
   "outputs": [
    {
     "name": "stderr",
     "output_type": "stream",
     "text": [
      "C:\\Users\\TEMP.BGU-USERS\\AppData\\Local\\Continuum\\Anaconda3\\lib\\site-packages\\plotly\\plotly\\plotly.py:218: UserWarning:\n",
      "\n",
      "Woah there! Look at all those points! Due to browser limitations, the Plotly SVG drawing functions have a hard time graphing more than 500k data points for line charts, or 40k points for other types of charts. Here are some suggestions:\n",
      "(1) Use the `plotly.graph_objs.Scattergl` trace object to generate a WebGl graph.\n",
      "(2) Trying using the image API to return an image instead of a graph URL\n",
      "(3) Use matplotlib\n",
      "(4) See if you can create your visualization with fewer data points\n",
      "\n",
      "If the visualization you're using aggregates points (e.g., box plot, histogram, etc.) you can disregard this warning.\n",
      "\n"
     ]
    },
    {
     "data": {
      "text/html": [
       "<iframe id=\"igraph\" scrolling=\"no\" style=\"border:none;\" seamless=\"seamless\" src=\"https://plot.ly/~galhever/28.embed\" height=\"525px\" width=\"100%\"></iframe>"
      ],
      "text/plain": [
       "<plotly.tools.PlotlyDisplay object>"
      ]
     },
     "execution_count": 49,
     "metadata": {},
     "output_type": "execute_result"
    }
   ],
   "source": [
    "import plotly.plotly as py\n",
    "import plotly.graph_objs as go\n",
    "\n",
    "data = [\n",
    "    {\n",
    "        \n",
    "        'x': df7.Weekday_Hour,\n",
    "        'y': df7.Amount, \n",
    "       \n",
    "        \"type\": \"box\",\n",
    "    },\n",
    "]\n",
    "\n",
    "layout = go.Layout(\n",
    "    title = \"Average of Monitor Spo2 Alarms per Hour&Weekday\"\n",
    ")\n",
    "\n",
    "fig = go.Figure(data=data, layout=layout)\n",
    "\n",
    "py.iplot(fig)"
   ]
  },
  {
   "cell_type": "code",
   "execution_count": 50,
   "metadata": {
    "collapsed": true
   },
   "outputs": [],
   "source": [
    "selectSql =\"select DATEADD(dd, 0, DATEDIFF(dd, 0, [Time])) as Date ,DATEPART(dw, Time) as Week,DATENAME(dw, Time),DATEPART(hh, Time), concat(DATENAME(dw, Time),DATEPART(hh, Time)) as Weekday_Hour , sum(case when ([CVP]>15 or [CVP]<0) then 1 else 0 end)/count(distinct [PatientID]) as Amount FROM [Ichilov].[dbo].[SouraskyDB] group by DATEADD(dd, 0, DATEDIFF(dd, 0, [Time])) ,DATEPART(dw, Time),DATENAME(dw, Time),DATEPART(hh, Time), concat(DATENAME(dw, Time),DATEPART(hh, Time)) order by  DATEPART(dw, Time),DATEPART(hh, Time);\"\n",
    "df8=pd.read_sql(selectSql, con)"
   ]
  },
  {
   "cell_type": "code",
   "execution_count": 54,
   "metadata": {},
   "outputs": [
    {
     "ename": "SyntaxError",
     "evalue": "invalid syntax (<ipython-input-54-147a2c452f43>, line 9)",
     "output_type": "error",
     "traceback": [
      "\u001b[1;36m  File \u001b[1;32m\"<ipython-input-54-147a2c452f43>\"\u001b[1;36m, line \u001b[1;32m9\u001b[0m\n\u001b[1;33m    marker=(color=\"rgb(16, 32, 77)\")\u001b[0m\n\u001b[1;37m          ^\u001b[0m\n\u001b[1;31mSyntaxError\u001b[0m\u001b[1;31m:\u001b[0m invalid syntax\n"
     ]
    }
   ],
   "source": [
    "import plotly.plotly as py\n",
    "import plotly.graph_objs as go\n",
    "\n",
    "data = [\n",
    "    {\n",
    "        \n",
    "        'x': df8.Weekday_Hour,\n",
    "        'y': df8.Amount, \n",
    "        \"type\": \"box\",\n",
    "    },\n",
    "]\n",
    "\n",
    "layout = go.Layout(\n",
    "    title = \"Average of Monitor CVP Alarms per Hour&Weekday\"\n",
    ")\n",
    "\n",
    "fig = go.Figure(data=data, layout=layout)\n",
    "\n",
    "py.iplot(fig)"
   ]
  },
  {
   "cell_type": "code",
   "execution_count": null,
   "metadata": {
    "collapsed": true
   },
   "outputs": [],
   "source": []
  }
 ],
 "metadata": {
  "kernelspec": {
   "display_name": "Python 3",
   "language": "python",
   "name": "python3"
  },
  "language_info": {
   "codemirror_mode": {
    "name": "ipython",
    "version": 3
   },
   "file_extension": ".py",
   "mimetype": "text/x-python",
   "name": "python",
   "nbconvert_exporter": "python",
   "pygments_lexer": "ipython3",
   "version": "3.6.1"
  }
 },
 "nbformat": 4,
 "nbformat_minor": 2
}
